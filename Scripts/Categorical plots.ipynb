{
 "cells": [
  {
   "cell_type": "markdown",
   "id": "5c43ed32",
   "metadata": {},
   "source": [
    "Categorical Plots \n",
    "Creating a categorical variable that splits the \"15dy percent change\" column into categories\n",
    "\n",
    "sns.histplot(df['15dy percent change'], bins = 20, kde = True)\n",
    "\n",
    "df.loc[df['15dy percent change'] < -100, 'Percent change category'] = 'Large decrease'\n",
    "\n",
    "df.loc[(df['15dy percent change'] >= -99) & (df['15dy percent change'] < -10), 'Percent change category'] = 'Decrease'\n",
    "\n",
    "df.loc[(df['15dy percent change'] >= -9) & (df['15dy percent change'] < 9), 'Percent change category'] = 'Stable'\n",
    "\n",
    "df.loc[(df['15dy percent change'] >= 10) & (df['15dy percent change'] < 99), 'Percent change category'] = 'Increase'\n",
    "\n",
    "df.loc[df['15dy percent change'] < 100, 'Percent change category'] = 'Large increase'\n",
    "\n",
    "df['Percent change category'].value_counts(dropna = False)\n",
    "\n",
    "df.columns\n",
    "\n",
    "#Create a categorical plot in seaborn using the percent change categories created above\n",
    "sns.set(style=\"ticks\")\n",
    "g = sns.catplot(x=\"percentile\", y=\"15dy percent change\", hue=\"Percent change category\", data=df)\n",
    "\n",
    "#fig = g.get_figure()\n",
    "g.savefig(\"out.png\") \n",
    "\n"
   ]
  }
 ],
 "metadata": {
  "kernelspec": {
   "display_name": "Python 3 (ipykernel)",
   "language": "python",
   "name": "python3"
  },
  "language_info": {
   "codemirror_mode": {
    "name": "ipython",
    "version": 3
   },
   "file_extension": ".py",
   "mimetype": "text/x-python",
   "name": "python",
   "nbconvert_exporter": "python",
   "pygments_lexer": "ipython3",
   "version": "3.9.12"
  }
 },
 "nbformat": 4,
 "nbformat_minor": 5
}
