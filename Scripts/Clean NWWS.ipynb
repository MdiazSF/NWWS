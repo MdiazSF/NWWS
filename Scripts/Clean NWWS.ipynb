{
 "cells": [
  {
   "cell_type": "markdown",
   "id": "e146d585",
   "metadata": {},
   "source": [
    "## 1. Importing Data"
   ]
  },
  {
   "cell_type": "code",
   "execution_count": 218,
   "id": "208acbf6",
   "metadata": {},
   "outputs": [],
   "source": [
    "import pandas as pd\n",
    "import numpy as np\n",
    "import os"
   ]
  },
  {
   "cell_type": "code",
   "execution_count": 219,
   "id": "1d629858",
   "metadata": {},
   "outputs": [],
   "source": [
    "path = r'/Users/mdiaz/Desktop/NWWS data/Data'"
   ]
  },
  {
   "cell_type": "code",
   "execution_count": 220,
   "id": "36a8738a",
   "metadata": {},
   "outputs": [
    {
     "data": {
      "text/plain": [
       "'/Users/mdiaz/Desktop/NWWS data/Data'"
      ]
     },
     "execution_count": 220,
     "metadata": {},
     "output_type": "execute_result"
    }
   ],
   "source": [
    "path"
   ]
  },
  {
   "cell_type": "code",
   "execution_count": 221,
   "id": "421726f3",
   "metadata": {},
   "outputs": [],
   "source": [
    "df = pd.read_csv(os.path.join(path, 'Original', '12.27.22 Wastewater_Metric_Data.csv'),index_col = False)"
   ]
  },
  {
   "cell_type": "markdown",
   "id": "f96eae79",
   "metadata": {},
   "source": [
    "## 2. Exploring data"
   ]
  },
  {
   "cell_type": "code",
   "execution_count": 222,
   "id": "25514fa9",
   "metadata": {},
   "outputs": [
    {
     "data": {
      "text/plain": [
       "(1334, 16)"
      ]
     },
     "execution_count": 222,
     "metadata": {},
     "output_type": "execute_result"
    }
   ],
   "source": [
    "df.shape"
   ]
  },
  {
   "cell_type": "code",
   "execution_count": 223,
   "id": "7fb11d56",
   "metadata": {},
   "outputs": [
    {
     "data": {
      "text/plain": [
       "<bound method DataFrame.info of      wwtp_jurisdiction  wwtp_id reporting_jurisdiction  sample_location  \\\n",
       "0               Hawaii      710                 Hawaii  Treatment plant   \n",
       "1             Maryland      547               Maryland  Treatment plant   \n",
       "2             New York      426               New York  Treatment plant   \n",
       "3               Oregon      932                 Oregon  Treatment plant   \n",
       "4               Oregon      956                 Oregon  Treatment plant   \n",
       "...                ...      ...                    ...              ...   \n",
       "1329           Montana      977                Montana  Treatment plant   \n",
       "1330            Oregon      950                 Oregon  Treatment plant   \n",
       "1331     West Virginia      735          West Virginia  Treatment plant   \n",
       "1332        California     1709             California  Treatment plant   \n",
       "1333             Texas     1683                  Texas  Treatment plant   \n",
       "\n",
       "      sample_location_specify  \\\n",
       "0                         NaN   \n",
       "1                         NaN   \n",
       "2                         NaN   \n",
       "3                         NaN   \n",
       "4                         NaN   \n",
       "...                       ...   \n",
       "1329                      NaN   \n",
       "1330                      NaN   \n",
       "1331                      NaN   \n",
       "1332                      NaN   \n",
       "1333                      NaN   \n",
       "\n",
       "                                           key_plot_id     county_names  \\\n",
       "0     CDC_BIOBOT_hi_710_Treatment plant_raw wastewater            Kauai   \n",
       "1     CDC_BIOBOT_md_547_Treatment plant_raw wastewater           Howard   \n",
       "2           NWSS_ny_426_Treatment plant_raw wastewater           Orange   \n",
       "3           NWSS_or_932_Treatment plant_raw wastewater        Deschutes   \n",
       "4           NWSS_or_956_Treatment plant_raw wastewater          Jackson   \n",
       "...                                                ...              ...   \n",
       "1329        NWSS_mt_977_Treatment plant_raw wastewater  Lewis And Clark   \n",
       "1330        NWSS_or_950_Treatment plant_raw wastewater        Josephine   \n",
       "1331        NWSS_wv_735_Treatment plant_raw wastewater           Taylor   \n",
       "1332        WWS_ca_1709_Treatment plant_primary sludge   San Bernardino   \n",
       "1333        WWS_tx_1683_Treatment plant_primary sludge           Dallas   \n",
       "\n",
       "     county_fips  population_served  date_start    date_end  ptc_15d  \\\n",
       "0          15007              10000  2022-12-27  2023-01-10   5649.0   \n",
       "1          24027             270000  2022-12-27  2023-01-10    -48.0   \n",
       "2          36071               6729  2022-12-27  2023-01-10    -99.0   \n",
       "3          41017              92850  2022-12-27  2023-01-10   -100.0   \n",
       "4          41029             133708  2022-12-27  2023-01-10    -70.0   \n",
       "...          ...                ...         ...         ...      ...   \n",
       "1329       30049              37125  2022-12-27  2023-01-10    192.0   \n",
       "1330       41033              37725  2022-12-27  2023-01-10   -100.0   \n",
       "1331       54091               6071  2022-12-27  2023-01-10    -95.0   \n",
       "1332       06071             890000  2022-12-27  2023-01-10    -23.0   \n",
       "1333       48113             186000  2022-12-27  2023-01-10      2.0   \n",
       "\n",
       "      detect_prop_15d  percentile sampling_prior first_sample_date  \n",
       "0               100.0      27.500             no        2022-05-03  \n",
       "1               100.0      52.800             no        2022-11-28  \n",
       "2                75.0      53.250            yes        2022-01-04  \n",
       "3               100.0      15.333            yes        2020-09-04  \n",
       "4               100.0      20.333            yes        2020-10-01  \n",
       "...               ...         ...            ...               ...  \n",
       "1329            100.0      59.333            yes        2020-08-10  \n",
       "1330             50.0      11.000            yes        2020-12-21  \n",
       "1331            100.0      83.818             no        2022-02-10  \n",
       "1332            100.0      78.000             no        2022-04-25  \n",
       "1333            100.0      94.500             no        2022-02-27  \n",
       "\n",
       "[1334 rows x 16 columns]>"
      ]
     },
     "execution_count": 223,
     "metadata": {},
     "output_type": "execute_result"
    }
   ],
   "source": [
    "df.info"
   ]
  },
  {
   "cell_type": "code",
   "execution_count": 224,
   "id": "bcf9c95d",
   "metadata": {},
   "outputs": [
    {
     "data": {
      "text/plain": [
       "Index(['wwtp_jurisdiction', 'wwtp_id', 'reporting_jurisdiction',\n",
       "       'sample_location', 'sample_location_specify', 'key_plot_id',\n",
       "       'county_names', 'county_fips', 'population_served', 'date_start',\n",
       "       'date_end', 'ptc_15d', 'detect_prop_15d', 'percentile',\n",
       "       'sampling_prior', 'first_sample_date'],\n",
       "      dtype='object')"
      ]
     },
     "execution_count": 224,
     "metadata": {},
     "output_type": "execute_result"
    }
   ],
   "source": [
    "df.columns"
   ]
  },
  {
   "cell_type": "markdown",
   "id": "fbe67b7d",
   "metadata": {},
   "source": [
    "## 3. Dropping columns "
   ]
  },
  {
   "cell_type": "code",
   "execution_count": 225,
   "id": "204b9f39",
   "metadata": {},
   "outputs": [],
   "source": [
    "df = df.drop(columns = ['reporting_jurisdiction', 'sample_location', 'sample_location_specify', 'key_plot_id', 'county_fips', 'date_end', 'detect_prop_15d', 'sampling_prior', 'first_sample_date'])"
   ]
  },
  {
   "cell_type": "code",
   "execution_count": 226,
   "id": "fb01cbaf",
   "metadata": {},
   "outputs": [
    {
     "data": {
      "text/html": [
       "<div>\n",
       "<style scoped>\n",
       "    .dataframe tbody tr th:only-of-type {\n",
       "        vertical-align: middle;\n",
       "    }\n",
       "\n",
       "    .dataframe tbody tr th {\n",
       "        vertical-align: top;\n",
       "    }\n",
       "\n",
       "    .dataframe thead th {\n",
       "        text-align: right;\n",
       "    }\n",
       "</style>\n",
       "<table border=\"1\" class=\"dataframe\">\n",
       "  <thead>\n",
       "    <tr style=\"text-align: right;\">\n",
       "      <th></th>\n",
       "      <th>wwtp_jurisdiction</th>\n",
       "      <th>wwtp_id</th>\n",
       "      <th>county_names</th>\n",
       "      <th>population_served</th>\n",
       "      <th>date_start</th>\n",
       "      <th>ptc_15d</th>\n",
       "      <th>percentile</th>\n",
       "    </tr>\n",
       "  </thead>\n",
       "  <tbody>\n",
       "    <tr>\n",
       "      <th>0</th>\n",
       "      <td>Hawaii</td>\n",
       "      <td>710</td>\n",
       "      <td>Kauai</td>\n",
       "      <td>10000</td>\n",
       "      <td>2022-12-27</td>\n",
       "      <td>5649.0</td>\n",
       "      <td>27.500</td>\n",
       "    </tr>\n",
       "    <tr>\n",
       "      <th>1</th>\n",
       "      <td>Maryland</td>\n",
       "      <td>547</td>\n",
       "      <td>Howard</td>\n",
       "      <td>270000</td>\n",
       "      <td>2022-12-27</td>\n",
       "      <td>-48.0</td>\n",
       "      <td>52.800</td>\n",
       "    </tr>\n",
       "    <tr>\n",
       "      <th>2</th>\n",
       "      <td>New York</td>\n",
       "      <td>426</td>\n",
       "      <td>Orange</td>\n",
       "      <td>6729</td>\n",
       "      <td>2022-12-27</td>\n",
       "      <td>-99.0</td>\n",
       "      <td>53.250</td>\n",
       "    </tr>\n",
       "    <tr>\n",
       "      <th>3</th>\n",
       "      <td>Oregon</td>\n",
       "      <td>932</td>\n",
       "      <td>Deschutes</td>\n",
       "      <td>92850</td>\n",
       "      <td>2022-12-27</td>\n",
       "      <td>-100.0</td>\n",
       "      <td>15.333</td>\n",
       "    </tr>\n",
       "    <tr>\n",
       "      <th>4</th>\n",
       "      <td>Oregon</td>\n",
       "      <td>956</td>\n",
       "      <td>Jackson</td>\n",
       "      <td>133708</td>\n",
       "      <td>2022-12-27</td>\n",
       "      <td>-70.0</td>\n",
       "      <td>20.333</td>\n",
       "    </tr>\n",
       "    <tr>\n",
       "      <th>5</th>\n",
       "      <td>Indiana</td>\n",
       "      <td>1293</td>\n",
       "      <td>St Joseph</td>\n",
       "      <td>130000</td>\n",
       "      <td>2022-12-27</td>\n",
       "      <td>-82.0</td>\n",
       "      <td>58.000</td>\n",
       "    </tr>\n",
       "    <tr>\n",
       "      <th>6</th>\n",
       "      <td>Colorado</td>\n",
       "      <td>1135</td>\n",
       "      <td>Teller</td>\n",
       "      <td>6379</td>\n",
       "      <td>2022-12-27</td>\n",
       "      <td>-61.0</td>\n",
       "      <td>40.600</td>\n",
       "    </tr>\n",
       "    <tr>\n",
       "      <th>7</th>\n",
       "      <td>Idaho</td>\n",
       "      <td>1067</td>\n",
       "      <td>Twin Falls</td>\n",
       "      <td>48951</td>\n",
       "      <td>2022-12-27</td>\n",
       "      <td>NaN</td>\n",
       "      <td>NaN</td>\n",
       "    </tr>\n",
       "    <tr>\n",
       "      <th>8</th>\n",
       "      <td>Ohio</td>\n",
       "      <td>398</td>\n",
       "      <td>Lucas</td>\n",
       "      <td>372208</td>\n",
       "      <td>2022-12-27</td>\n",
       "      <td>-75.0</td>\n",
       "      <td>85.000</td>\n",
       "    </tr>\n",
       "    <tr>\n",
       "      <th>9</th>\n",
       "      <td>Texas</td>\n",
       "      <td>201</td>\n",
       "      <td>Harris</td>\n",
       "      <td>124000</td>\n",
       "      <td>2022-12-27</td>\n",
       "      <td>NaN</td>\n",
       "      <td>NaN</td>\n",
       "    </tr>\n",
       "  </tbody>\n",
       "</table>\n",
       "</div>"
      ],
      "text/plain": [
       "  wwtp_jurisdiction  wwtp_id county_names  population_served  date_start  \\\n",
       "0            Hawaii      710        Kauai              10000  2022-12-27   \n",
       "1          Maryland      547       Howard             270000  2022-12-27   \n",
       "2          New York      426       Orange               6729  2022-12-27   \n",
       "3            Oregon      932    Deschutes              92850  2022-12-27   \n",
       "4            Oregon      956      Jackson             133708  2022-12-27   \n",
       "5           Indiana     1293    St Joseph             130000  2022-12-27   \n",
       "6          Colorado     1135       Teller               6379  2022-12-27   \n",
       "7             Idaho     1067   Twin Falls              48951  2022-12-27   \n",
       "8              Ohio      398        Lucas             372208  2022-12-27   \n",
       "9             Texas      201       Harris             124000  2022-12-27   \n",
       "\n",
       "   ptc_15d  percentile  \n",
       "0   5649.0      27.500  \n",
       "1    -48.0      52.800  \n",
       "2    -99.0      53.250  \n",
       "3   -100.0      15.333  \n",
       "4    -70.0      20.333  \n",
       "5    -82.0      58.000  \n",
       "6    -61.0      40.600  \n",
       "7      NaN         NaN  \n",
       "8    -75.0      85.000  \n",
       "9      NaN         NaN  "
      ]
     },
     "execution_count": 226,
     "metadata": {},
     "output_type": "execute_result"
    }
   ],
   "source": [
    "df.head(10)"
   ]
  },
  {
   "cell_type": "markdown",
   "id": "8fb52878",
   "metadata": {},
   "source": [
    "## 4. Renaming columns"
   ]
  },
  {
   "cell_type": "code",
   "execution_count": 227,
   "id": "bbf6203e",
   "metadata": {},
   "outputs": [],
   "source": [
    "df.rename(columns = {'wwtp_jurisdiction': 'state', 'wwtp_id': 'id', 'county_names': 'county names', 'date_start': 'collection date', 'ptc_15d': '15dy percent change'}, inplace = True)"
   ]
  },
  {
   "cell_type": "code",
   "execution_count": 228,
   "id": "041a124f",
   "metadata": {},
   "outputs": [
    {
     "data": {
      "text/html": [
       "<div>\n",
       "<style scoped>\n",
       "    .dataframe tbody tr th:only-of-type {\n",
       "        vertical-align: middle;\n",
       "    }\n",
       "\n",
       "    .dataframe tbody tr th {\n",
       "        vertical-align: top;\n",
       "    }\n",
       "\n",
       "    .dataframe thead th {\n",
       "        text-align: right;\n",
       "    }\n",
       "</style>\n",
       "<table border=\"1\" class=\"dataframe\">\n",
       "  <thead>\n",
       "    <tr style=\"text-align: right;\">\n",
       "      <th></th>\n",
       "      <th>state</th>\n",
       "      <th>id</th>\n",
       "      <th>county names</th>\n",
       "      <th>population_served</th>\n",
       "      <th>collection date</th>\n",
       "      <th>15dy percent change</th>\n",
       "      <th>percentile</th>\n",
       "    </tr>\n",
       "  </thead>\n",
       "  <tbody>\n",
       "    <tr>\n",
       "      <th>0</th>\n",
       "      <td>Hawaii</td>\n",
       "      <td>710</td>\n",
       "      <td>Kauai</td>\n",
       "      <td>10000</td>\n",
       "      <td>2022-12-27</td>\n",
       "      <td>5649.0</td>\n",
       "      <td>27.500</td>\n",
       "    </tr>\n",
       "    <tr>\n",
       "      <th>1</th>\n",
       "      <td>Maryland</td>\n",
       "      <td>547</td>\n",
       "      <td>Howard</td>\n",
       "      <td>270000</td>\n",
       "      <td>2022-12-27</td>\n",
       "      <td>-48.0</td>\n",
       "      <td>52.800</td>\n",
       "    </tr>\n",
       "    <tr>\n",
       "      <th>2</th>\n",
       "      <td>New York</td>\n",
       "      <td>426</td>\n",
       "      <td>Orange</td>\n",
       "      <td>6729</td>\n",
       "      <td>2022-12-27</td>\n",
       "      <td>-99.0</td>\n",
       "      <td>53.250</td>\n",
       "    </tr>\n",
       "    <tr>\n",
       "      <th>3</th>\n",
       "      <td>Oregon</td>\n",
       "      <td>932</td>\n",
       "      <td>Deschutes</td>\n",
       "      <td>92850</td>\n",
       "      <td>2022-12-27</td>\n",
       "      <td>-100.0</td>\n",
       "      <td>15.333</td>\n",
       "    </tr>\n",
       "    <tr>\n",
       "      <th>4</th>\n",
       "      <td>Oregon</td>\n",
       "      <td>956</td>\n",
       "      <td>Jackson</td>\n",
       "      <td>133708</td>\n",
       "      <td>2022-12-27</td>\n",
       "      <td>-70.0</td>\n",
       "      <td>20.333</td>\n",
       "    </tr>\n",
       "    <tr>\n",
       "      <th>5</th>\n",
       "      <td>Indiana</td>\n",
       "      <td>1293</td>\n",
       "      <td>St Joseph</td>\n",
       "      <td>130000</td>\n",
       "      <td>2022-12-27</td>\n",
       "      <td>-82.0</td>\n",
       "      <td>58.000</td>\n",
       "    </tr>\n",
       "    <tr>\n",
       "      <th>6</th>\n",
       "      <td>Colorado</td>\n",
       "      <td>1135</td>\n",
       "      <td>Teller</td>\n",
       "      <td>6379</td>\n",
       "      <td>2022-12-27</td>\n",
       "      <td>-61.0</td>\n",
       "      <td>40.600</td>\n",
       "    </tr>\n",
       "    <tr>\n",
       "      <th>7</th>\n",
       "      <td>Idaho</td>\n",
       "      <td>1067</td>\n",
       "      <td>Twin Falls</td>\n",
       "      <td>48951</td>\n",
       "      <td>2022-12-27</td>\n",
       "      <td>NaN</td>\n",
       "      <td>NaN</td>\n",
       "    </tr>\n",
       "    <tr>\n",
       "      <th>8</th>\n",
       "      <td>Ohio</td>\n",
       "      <td>398</td>\n",
       "      <td>Lucas</td>\n",
       "      <td>372208</td>\n",
       "      <td>2022-12-27</td>\n",
       "      <td>-75.0</td>\n",
       "      <td>85.000</td>\n",
       "    </tr>\n",
       "    <tr>\n",
       "      <th>9</th>\n",
       "      <td>Texas</td>\n",
       "      <td>201</td>\n",
       "      <td>Harris</td>\n",
       "      <td>124000</td>\n",
       "      <td>2022-12-27</td>\n",
       "      <td>NaN</td>\n",
       "      <td>NaN</td>\n",
       "    </tr>\n",
       "  </tbody>\n",
       "</table>\n",
       "</div>"
      ],
      "text/plain": [
       "      state    id county names  population_served collection date  \\\n",
       "0    Hawaii   710        Kauai              10000      2022-12-27   \n",
       "1  Maryland   547       Howard             270000      2022-12-27   \n",
       "2  New York   426       Orange               6729      2022-12-27   \n",
       "3    Oregon   932    Deschutes              92850      2022-12-27   \n",
       "4    Oregon   956      Jackson             133708      2022-12-27   \n",
       "5   Indiana  1293    St Joseph             130000      2022-12-27   \n",
       "6  Colorado  1135       Teller               6379      2022-12-27   \n",
       "7     Idaho  1067   Twin Falls              48951      2022-12-27   \n",
       "8      Ohio   398        Lucas             372208      2022-12-27   \n",
       "9     Texas   201       Harris             124000      2022-12-27   \n",
       "\n",
       "   15dy percent change  percentile  \n",
       "0               5649.0      27.500  \n",
       "1                -48.0      52.800  \n",
       "2                -99.0      53.250  \n",
       "3               -100.0      15.333  \n",
       "4                -70.0      20.333  \n",
       "5                -82.0      58.000  \n",
       "6                -61.0      40.600  \n",
       "7                  NaN         NaN  \n",
       "8                -75.0      85.000  \n",
       "9                  NaN         NaN  "
      ]
     },
     "execution_count": 228,
     "metadata": {},
     "output_type": "execute_result"
    }
   ],
   "source": [
    "df.head(10)"
   ]
  },
  {
   "cell_type": "markdown",
   "id": "a3f4c1d6",
   "metadata": {},
   "source": [
    "## 5. Data consistency checks"
   ]
  },
  {
   "cell_type": "code",
   "execution_count": 229,
   "id": "1535f391",
   "metadata": {},
   "outputs": [
    {
     "data": {
      "text/html": [
       "<div>\n",
       "<style scoped>\n",
       "    .dataframe tbody tr th:only-of-type {\n",
       "        vertical-align: middle;\n",
       "    }\n",
       "\n",
       "    .dataframe tbody tr th {\n",
       "        vertical-align: top;\n",
       "    }\n",
       "\n",
       "    .dataframe thead th {\n",
       "        text-align: right;\n",
       "    }\n",
       "</style>\n",
       "<table border=\"1\" class=\"dataframe\">\n",
       "  <thead>\n",
       "    <tr style=\"text-align: right;\">\n",
       "      <th></th>\n",
       "      <th>id</th>\n",
       "      <th>population_served</th>\n",
       "      <th>15dy percent change</th>\n",
       "      <th>percentile</th>\n",
       "    </tr>\n",
       "  </thead>\n",
       "  <tbody>\n",
       "    <tr>\n",
       "      <th>count</th>\n",
       "      <td>1334.000000</td>\n",
       "      <td>1.334000e+03</td>\n",
       "      <td>9.080000e+02</td>\n",
       "      <td>1120.000000</td>\n",
       "    </tr>\n",
       "    <tr>\n",
       "      <th>mean</th>\n",
       "      <td>889.458771</td>\n",
       "      <td>1.250120e+05</td>\n",
       "      <td>9.474992e+06</td>\n",
       "      <td>114.986513</td>\n",
       "    </tr>\n",
       "    <tr>\n",
       "      <th>std</th>\n",
       "      <td>525.724824</td>\n",
       "      <td>3.165629e+05</td>\n",
       "      <td>1.422970e+08</td>\n",
       "      <td>216.967752</td>\n",
       "    </tr>\n",
       "    <tr>\n",
       "      <th>min</th>\n",
       "      <td>1.000000</td>\n",
       "      <td>9.000000e+02</td>\n",
       "      <td>-1.000000e+02</td>\n",
       "      <td>0.000000</td>\n",
       "    </tr>\n",
       "    <tr>\n",
       "      <th>25%</th>\n",
       "      <td>437.250000</td>\n",
       "      <td>1.200000e+04</td>\n",
       "      <td>-7.800000e+01</td>\n",
       "      <td>49.333000</td>\n",
       "    </tr>\n",
       "    <tr>\n",
       "      <th>50%</th>\n",
       "      <td>891.000000</td>\n",
       "      <td>3.305100e+04</td>\n",
       "      <td>-4.200000e+01</td>\n",
       "      <td>67.143000</td>\n",
       "    </tr>\n",
       "    <tr>\n",
       "      <th>75%</th>\n",
       "      <td>1324.500000</td>\n",
       "      <td>9.407250e+04</td>\n",
       "      <td>1.100000e+01</td>\n",
       "      <td>82.667000</td>\n",
       "    </tr>\n",
       "    <tr>\n",
       "      <th>max</th>\n",
       "      <td>1809.000000</td>\n",
       "      <td>4.000000e+06</td>\n",
       "      <td>2.147484e+09</td>\n",
       "      <td>999.000000</td>\n",
       "    </tr>\n",
       "  </tbody>\n",
       "</table>\n",
       "</div>"
      ],
      "text/plain": [
       "                id  population_served  15dy percent change   percentile\n",
       "count  1334.000000       1.334000e+03         9.080000e+02  1120.000000\n",
       "mean    889.458771       1.250120e+05         9.474992e+06   114.986513\n",
       "std     525.724824       3.165629e+05         1.422970e+08   216.967752\n",
       "min       1.000000       9.000000e+02        -1.000000e+02     0.000000\n",
       "25%     437.250000       1.200000e+04        -7.800000e+01    49.333000\n",
       "50%     891.000000       3.305100e+04        -4.200000e+01    67.143000\n",
       "75%    1324.500000       9.407250e+04         1.100000e+01    82.667000\n",
       "max    1809.000000       4.000000e+06         2.147484e+09   999.000000"
      ]
     },
     "execution_count": 229,
     "metadata": {},
     "output_type": "execute_result"
    }
   ],
   "source": [
    "df.describe()"
   ]
  },
  {
   "cell_type": "code",
   "execution_count": 230,
   "id": "1560e53c",
   "metadata": {},
   "outputs": [
    {
     "data": {
      "text/plain": [
       "state                    0\n",
       "id                       0\n",
       "county names             0\n",
       "population_served        0\n",
       "collection date          0\n",
       "15dy percent change    426\n",
       "percentile             214\n",
       "dtype: int64"
      ]
     },
     "execution_count": 230,
     "metadata": {},
     "output_type": "execute_result"
    }
   ],
   "source": [
    "df.isnull().sum()"
   ]
  },
  {
   "cell_type": "code",
   "execution_count": 231,
   "id": "e9ba8514",
   "metadata": {},
   "outputs": [
    {
     "data": {
      "text/plain": [
       "(1334, 7)"
      ]
     },
     "execution_count": 231,
     "metadata": {},
     "output_type": "execute_result"
    }
   ],
   "source": [
    "df.shape"
   ]
  },
  {
   "cell_type": "code",
   "execution_count": 232,
   "id": "3f0a506b",
   "metadata": {},
   "outputs": [],
   "source": [
    "# Select data without misising values in column 15dy percent change\n",
    "df_nan = df[df['15dy percent change'].isnull() == False]"
   ]
  },
  {
   "cell_type": "code",
   "execution_count": 233,
   "id": "9e63dd65",
   "metadata": {},
   "outputs": [
    {
     "data": {
      "text/html": [
       "<div>\n",
       "<style scoped>\n",
       "    .dataframe tbody tr th:only-of-type {\n",
       "        vertical-align: middle;\n",
       "    }\n",
       "\n",
       "    .dataframe tbody tr th {\n",
       "        vertical-align: top;\n",
       "    }\n",
       "\n",
       "    .dataframe thead th {\n",
       "        text-align: right;\n",
       "    }\n",
       "</style>\n",
       "<table border=\"1\" class=\"dataframe\">\n",
       "  <thead>\n",
       "    <tr style=\"text-align: right;\">\n",
       "      <th></th>\n",
       "      <th>state</th>\n",
       "      <th>id</th>\n",
       "      <th>county names</th>\n",
       "      <th>population_served</th>\n",
       "      <th>collection date</th>\n",
       "      <th>15dy percent change</th>\n",
       "      <th>percentile</th>\n",
       "    </tr>\n",
       "  </thead>\n",
       "  <tbody>\n",
       "    <tr>\n",
       "      <th>0</th>\n",
       "      <td>Hawaii</td>\n",
       "      <td>710</td>\n",
       "      <td>Kauai</td>\n",
       "      <td>10000</td>\n",
       "      <td>2022-12-27</td>\n",
       "      <td>5649.0</td>\n",
       "      <td>27.500</td>\n",
       "    </tr>\n",
       "    <tr>\n",
       "      <th>1</th>\n",
       "      <td>Maryland</td>\n",
       "      <td>547</td>\n",
       "      <td>Howard</td>\n",
       "      <td>270000</td>\n",
       "      <td>2022-12-27</td>\n",
       "      <td>-48.0</td>\n",
       "      <td>52.800</td>\n",
       "    </tr>\n",
       "    <tr>\n",
       "      <th>2</th>\n",
       "      <td>New York</td>\n",
       "      <td>426</td>\n",
       "      <td>Orange</td>\n",
       "      <td>6729</td>\n",
       "      <td>2022-12-27</td>\n",
       "      <td>-99.0</td>\n",
       "      <td>53.250</td>\n",
       "    </tr>\n",
       "    <tr>\n",
       "      <th>3</th>\n",
       "      <td>Oregon</td>\n",
       "      <td>932</td>\n",
       "      <td>Deschutes</td>\n",
       "      <td>92850</td>\n",
       "      <td>2022-12-27</td>\n",
       "      <td>-100.0</td>\n",
       "      <td>15.333</td>\n",
       "    </tr>\n",
       "    <tr>\n",
       "      <th>4</th>\n",
       "      <td>Oregon</td>\n",
       "      <td>956</td>\n",
       "      <td>Jackson</td>\n",
       "      <td>133708</td>\n",
       "      <td>2022-12-27</td>\n",
       "      <td>-70.0</td>\n",
       "      <td>20.333</td>\n",
       "    </tr>\n",
       "    <tr>\n",
       "      <th>...</th>\n",
       "      <td>...</td>\n",
       "      <td>...</td>\n",
       "      <td>...</td>\n",
       "      <td>...</td>\n",
       "      <td>...</td>\n",
       "      <td>...</td>\n",
       "      <td>...</td>\n",
       "    </tr>\n",
       "    <tr>\n",
       "      <th>1329</th>\n",
       "      <td>Montana</td>\n",
       "      <td>977</td>\n",
       "      <td>Lewis And Clark</td>\n",
       "      <td>37125</td>\n",
       "      <td>2022-12-27</td>\n",
       "      <td>192.0</td>\n",
       "      <td>59.333</td>\n",
       "    </tr>\n",
       "    <tr>\n",
       "      <th>1330</th>\n",
       "      <td>Oregon</td>\n",
       "      <td>950</td>\n",
       "      <td>Josephine</td>\n",
       "      <td>37725</td>\n",
       "      <td>2022-12-27</td>\n",
       "      <td>-100.0</td>\n",
       "      <td>11.000</td>\n",
       "    </tr>\n",
       "    <tr>\n",
       "      <th>1331</th>\n",
       "      <td>West Virginia</td>\n",
       "      <td>735</td>\n",
       "      <td>Taylor</td>\n",
       "      <td>6071</td>\n",
       "      <td>2022-12-27</td>\n",
       "      <td>-95.0</td>\n",
       "      <td>83.818</td>\n",
       "    </tr>\n",
       "    <tr>\n",
       "      <th>1332</th>\n",
       "      <td>California</td>\n",
       "      <td>1709</td>\n",
       "      <td>San Bernardino</td>\n",
       "      <td>890000</td>\n",
       "      <td>2022-12-27</td>\n",
       "      <td>-23.0</td>\n",
       "      <td>78.000</td>\n",
       "    </tr>\n",
       "    <tr>\n",
       "      <th>1333</th>\n",
       "      <td>Texas</td>\n",
       "      <td>1683</td>\n",
       "      <td>Dallas</td>\n",
       "      <td>186000</td>\n",
       "      <td>2022-12-27</td>\n",
       "      <td>2.0</td>\n",
       "      <td>94.500</td>\n",
       "    </tr>\n",
       "  </tbody>\n",
       "</table>\n",
       "<p>908 rows × 7 columns</p>\n",
       "</div>"
      ],
      "text/plain": [
       "              state    id     county names  population_served collection date  \\\n",
       "0            Hawaii   710            Kauai              10000      2022-12-27   \n",
       "1          Maryland   547           Howard             270000      2022-12-27   \n",
       "2          New York   426           Orange               6729      2022-12-27   \n",
       "3            Oregon   932        Deschutes              92850      2022-12-27   \n",
       "4            Oregon   956          Jackson             133708      2022-12-27   \n",
       "...             ...   ...              ...                ...             ...   \n",
       "1329        Montana   977  Lewis And Clark              37125      2022-12-27   \n",
       "1330         Oregon   950        Josephine              37725      2022-12-27   \n",
       "1331  West Virginia   735           Taylor               6071      2022-12-27   \n",
       "1332     California  1709   San Bernardino             890000      2022-12-27   \n",
       "1333          Texas  1683           Dallas             186000      2022-12-27   \n",
       "\n",
       "      15dy percent change  percentile  \n",
       "0                  5649.0      27.500  \n",
       "1                   -48.0      52.800  \n",
       "2                   -99.0      53.250  \n",
       "3                  -100.0      15.333  \n",
       "4                   -70.0      20.333  \n",
       "...                   ...         ...  \n",
       "1329                192.0      59.333  \n",
       "1330               -100.0      11.000  \n",
       "1331                -95.0      83.818  \n",
       "1332                -23.0      78.000  \n",
       "1333                  2.0      94.500  \n",
       "\n",
       "[908 rows x 7 columns]"
      ]
     },
     "execution_count": 233,
     "metadata": {},
     "output_type": "execute_result"
    }
   ],
   "source": [
    "df_nan"
   ]
  },
  {
   "cell_type": "markdown",
   "id": "2831c201",
   "metadata": {},
   "source": [
    "## 6. Imputing Nan from data set \n"
   ]
  },
  {
   "cell_type": "markdown",
   "id": "e185d164",
   "metadata": {},
   "source": [
    "#Data with new site or Nan does not have any value. "
   ]
  },
  {
   "cell_type": "code",
   "execution_count": 234,
   "id": "c42e4ed5",
   "metadata": {},
   "outputs": [
    {
     "name": "stderr",
     "output_type": "stream",
     "text": [
      "/var/folders/dp/hgd07ff102g9k5vqs2psn8_40000gn/T/ipykernel_58198/3651238695.py:1: SettingWithCopyWarning: \n",
      "A value is trying to be set on a copy of a slice from a DataFrame\n",
      "\n",
      "See the caveats in the documentation: https://pandas.pydata.org/pandas-docs/stable/user_guide/indexing.html#returning-a-view-versus-a-copy\n",
      "  df_nan['15dy percent change'].fillna(0, inplace=True)\n"
     ]
    }
   ],
   "source": [
    "df_nan['15dy percent change'].fillna(0, inplace=True) "
   ]
  },
  {
   "cell_type": "code",
   "execution_count": 235,
   "id": "24639ca6",
   "metadata": {},
   "outputs": [
    {
     "data": {
      "text/plain": [
       "(908, 7)"
      ]
     },
     "execution_count": 235,
     "metadata": {},
     "output_type": "execute_result"
    }
   ],
   "source": [
    "df_nan.shape"
   ]
  },
  {
   "cell_type": "code",
   "execution_count": 236,
   "id": "5d98464b",
   "metadata": {},
   "outputs": [
    {
     "name": "stderr",
     "output_type": "stream",
     "text": [
      "/var/folders/dp/hgd07ff102g9k5vqs2psn8_40000gn/T/ipykernel_58198/1974169414.py:1: SettingWithCopyWarning: \n",
      "A value is trying to be set on a copy of a slice from a DataFrame\n",
      "\n",
      "See the caveats in the documentation: https://pandas.pydata.org/pandas-docs/stable/user_guide/indexing.html#returning-a-view-versus-a-copy\n",
      "  df_nan['15dy percent change'].fillna(0, inplace=True)\n"
     ]
    }
   ],
   "source": [
    "df_nan['15dy percent change'].fillna(0, inplace=True)"
   ]
  },
  {
   "cell_type": "code",
   "execution_count": 237,
   "id": "a600cc6c",
   "metadata": {},
   "outputs": [
    {
     "data": {
      "text/plain": [
       "(908, 7)"
      ]
     },
     "execution_count": 237,
     "metadata": {},
     "output_type": "execute_result"
    }
   ],
   "source": [
    "df_nan.shape"
   ]
  },
  {
   "cell_type": "code",
   "execution_count": 238,
   "id": "488563c0",
   "metadata": {},
   "outputs": [
    {
     "data": {
      "text/plain": [
       "<bound method NDFrame.describe of               state    id     county names  population_served collection date  \\\n",
       "0            Hawaii   710            Kauai              10000      2022-12-27   \n",
       "1          Maryland   547           Howard             270000      2022-12-27   \n",
       "2          New York   426           Orange               6729      2022-12-27   \n",
       "3            Oregon   932        Deschutes              92850      2022-12-27   \n",
       "4            Oregon   956          Jackson             133708      2022-12-27   \n",
       "...             ...   ...              ...                ...             ...   \n",
       "1329        Montana   977  Lewis And Clark              37125      2022-12-27   \n",
       "1330         Oregon   950        Josephine              37725      2022-12-27   \n",
       "1331  West Virginia   735           Taylor               6071      2022-12-27   \n",
       "1332     California  1709   San Bernardino             890000      2022-12-27   \n",
       "1333          Texas  1683           Dallas             186000      2022-12-27   \n",
       "\n",
       "      15dy percent change  percentile  \n",
       "0                  5649.0      27.500  \n",
       "1                   -48.0      52.800  \n",
       "2                   -99.0      53.250  \n",
       "3                  -100.0      15.333  \n",
       "4                   -70.0      20.333  \n",
       "...                   ...         ...  \n",
       "1329                192.0      59.333  \n",
       "1330               -100.0      11.000  \n",
       "1331                -95.0      83.818  \n",
       "1332                -23.0      78.000  \n",
       "1333                  2.0      94.500  \n",
       "\n",
       "[908 rows x 7 columns]>"
      ]
     },
     "execution_count": 238,
     "metadata": {},
     "output_type": "execute_result"
    }
   ],
   "source": [
    "df_nan.describe"
   ]
  },
  {
   "cell_type": "markdown",
   "id": "9f2e1a5a",
   "metadata": {},
   "source": [
    "## 7. Merging data with most recent metrics"
   ]
  },
  {
   "cell_type": "code",
   "execution_count": 239,
   "id": "7e52b75d",
   "metadata": {},
   "outputs": [],
   "source": [
    "#Import new df_2\n",
    "df_2 = pd.read_csv(os.path.join(path, 'Original', '1.12.23 ww_surveillance_data.csv'),index_col = False)"
   ]
  },
  {
   "cell_type": "code",
   "execution_count": 240,
   "id": "86ef7195",
   "metadata": {},
   "outputs": [
    {
     "data": {
      "text/plain": [
       "(1332, 5)"
      ]
     },
     "execution_count": 240,
     "metadata": {},
     "output_type": "execute_result"
    }
   ],
   "source": [
    "df_2.shape"
   ]
  },
  {
   "cell_type": "code",
   "execution_count": 241,
   "id": "4cb19e5c",
   "metadata": {},
   "outputs": [
    {
     "data": {
      "text/plain": [
       "Index(['state', 'id', 'county names', 'population_served',\n",
       "       'current percentile levels '],\n",
       "      dtype='object')"
      ]
     },
     "execution_count": 241,
     "metadata": {},
     "output_type": "execute_result"
    }
   ],
   "source": [
    "df_2.columns"
   ]
  },
  {
   "cell_type": "code",
   "execution_count": 242,
   "id": "a492e3e2",
   "metadata": {},
   "outputs": [],
   "source": [
    "df_merged = df_nan.merge (df_2, on = ['state', 'id', 'county names', 'population_served'], indicator = True)"
   ]
  },
  {
   "cell_type": "code",
   "execution_count": 243,
   "id": "13588388",
   "metadata": {},
   "outputs": [
    {
     "data": {
      "text/html": [
       "<div>\n",
       "<style scoped>\n",
       "    .dataframe tbody tr th:only-of-type {\n",
       "        vertical-align: middle;\n",
       "    }\n",
       "\n",
       "    .dataframe tbody tr th {\n",
       "        vertical-align: top;\n",
       "    }\n",
       "\n",
       "    .dataframe thead th {\n",
       "        text-align: right;\n",
       "    }\n",
       "</style>\n",
       "<table border=\"1\" class=\"dataframe\">\n",
       "  <thead>\n",
       "    <tr style=\"text-align: right;\">\n",
       "      <th></th>\n",
       "      <th>state</th>\n",
       "      <th>id</th>\n",
       "      <th>county names</th>\n",
       "      <th>population_served</th>\n",
       "      <th>collection date</th>\n",
       "      <th>15dy percent change</th>\n",
       "      <th>percentile</th>\n",
       "      <th>current percentile levels</th>\n",
       "      <th>_merge</th>\n",
       "    </tr>\n",
       "  </thead>\n",
       "  <tbody>\n",
       "    <tr>\n",
       "      <th>0</th>\n",
       "      <td>Hawaii</td>\n",
       "      <td>710</td>\n",
       "      <td>Kauai</td>\n",
       "      <td>10000</td>\n",
       "      <td>2022-12-27</td>\n",
       "      <td>5649.0</td>\n",
       "      <td>27.500</td>\n",
       "      <td>2</td>\n",
       "      <td>both</td>\n",
       "    </tr>\n",
       "    <tr>\n",
       "      <th>1</th>\n",
       "      <td>Maryland</td>\n",
       "      <td>547</td>\n",
       "      <td>Howard</td>\n",
       "      <td>270000</td>\n",
       "      <td>2022-12-27</td>\n",
       "      <td>-48.0</td>\n",
       "      <td>52.800</td>\n",
       "      <td>58</td>\n",
       "      <td>both</td>\n",
       "    </tr>\n",
       "    <tr>\n",
       "      <th>2</th>\n",
       "      <td>New York</td>\n",
       "      <td>426</td>\n",
       "      <td>Orange</td>\n",
       "      <td>6729</td>\n",
       "      <td>2022-12-27</td>\n",
       "      <td>-99.0</td>\n",
       "      <td>53.250</td>\n",
       "      <td>64</td>\n",
       "      <td>both</td>\n",
       "    </tr>\n",
       "    <tr>\n",
       "      <th>3</th>\n",
       "      <td>Oregon</td>\n",
       "      <td>932</td>\n",
       "      <td>Deschutes</td>\n",
       "      <td>92850</td>\n",
       "      <td>2022-12-27</td>\n",
       "      <td>-100.0</td>\n",
       "      <td>15.333</td>\n",
       "      <td>0</td>\n",
       "      <td>both</td>\n",
       "    </tr>\n",
       "    <tr>\n",
       "      <th>4</th>\n",
       "      <td>Oregon</td>\n",
       "      <td>956</td>\n",
       "      <td>Jackson</td>\n",
       "      <td>133708</td>\n",
       "      <td>2022-12-27</td>\n",
       "      <td>-70.0</td>\n",
       "      <td>20.333</td>\n",
       "      <td>0</td>\n",
       "      <td>both</td>\n",
       "    </tr>\n",
       "    <tr>\n",
       "      <th>...</th>\n",
       "      <td>...</td>\n",
       "      <td>...</td>\n",
       "      <td>...</td>\n",
       "      <td>...</td>\n",
       "      <td>...</td>\n",
       "      <td>...</td>\n",
       "      <td>...</td>\n",
       "      <td>...</td>\n",
       "      <td>...</td>\n",
       "    </tr>\n",
       "    <tr>\n",
       "      <th>841</th>\n",
       "      <td>Montana</td>\n",
       "      <td>977</td>\n",
       "      <td>Lewis And Clark</td>\n",
       "      <td>37125</td>\n",
       "      <td>2022-12-27</td>\n",
       "      <td>192.0</td>\n",
       "      <td>59.333</td>\n",
       "      <td>60</td>\n",
       "      <td>both</td>\n",
       "    </tr>\n",
       "    <tr>\n",
       "      <th>842</th>\n",
       "      <td>Oregon</td>\n",
       "      <td>950</td>\n",
       "      <td>Josephine</td>\n",
       "      <td>37725</td>\n",
       "      <td>2022-12-27</td>\n",
       "      <td>-100.0</td>\n",
       "      <td>11.000</td>\n",
       "      <td>0</td>\n",
       "      <td>both</td>\n",
       "    </tr>\n",
       "    <tr>\n",
       "      <th>843</th>\n",
       "      <td>West Virginia</td>\n",
       "      <td>735</td>\n",
       "      <td>Taylor</td>\n",
       "      <td>6071</td>\n",
       "      <td>2022-12-27</td>\n",
       "      <td>-95.0</td>\n",
       "      <td>83.818</td>\n",
       "      <td>84</td>\n",
       "      <td>both</td>\n",
       "    </tr>\n",
       "    <tr>\n",
       "      <th>844</th>\n",
       "      <td>California</td>\n",
       "      <td>1709</td>\n",
       "      <td>San Bernardino</td>\n",
       "      <td>890000</td>\n",
       "      <td>2022-12-27</td>\n",
       "      <td>-23.0</td>\n",
       "      <td>78.000</td>\n",
       "      <td>78</td>\n",
       "      <td>both</td>\n",
       "    </tr>\n",
       "    <tr>\n",
       "      <th>845</th>\n",
       "      <td>Texas</td>\n",
       "      <td>1683</td>\n",
       "      <td>Dallas</td>\n",
       "      <td>186000</td>\n",
       "      <td>2022-12-27</td>\n",
       "      <td>2.0</td>\n",
       "      <td>94.500</td>\n",
       "      <td>95</td>\n",
       "      <td>both</td>\n",
       "    </tr>\n",
       "  </tbody>\n",
       "</table>\n",
       "<p>846 rows × 9 columns</p>\n",
       "</div>"
      ],
      "text/plain": [
       "             state    id     county names  population_served collection date  \\\n",
       "0           Hawaii   710            Kauai              10000      2022-12-27   \n",
       "1         Maryland   547           Howard             270000      2022-12-27   \n",
       "2         New York   426           Orange               6729      2022-12-27   \n",
       "3           Oregon   932        Deschutes              92850      2022-12-27   \n",
       "4           Oregon   956          Jackson             133708      2022-12-27   \n",
       "..             ...   ...              ...                ...             ...   \n",
       "841        Montana   977  Lewis And Clark              37125      2022-12-27   \n",
       "842         Oregon   950        Josephine              37725      2022-12-27   \n",
       "843  West Virginia   735           Taylor               6071      2022-12-27   \n",
       "844     California  1709   San Bernardino             890000      2022-12-27   \n",
       "845          Texas  1683           Dallas             186000      2022-12-27   \n",
       "\n",
       "     15dy percent change  percentile  current percentile levels  _merge  \n",
       "0                 5649.0      27.500                           2   both  \n",
       "1                  -48.0      52.800                          58   both  \n",
       "2                  -99.0      53.250                          64   both  \n",
       "3                 -100.0      15.333                           0   both  \n",
       "4                  -70.0      20.333                           0   both  \n",
       "..                   ...         ...                         ...    ...  \n",
       "841                192.0      59.333                          60   both  \n",
       "842               -100.0      11.000                           0   both  \n",
       "843                -95.0      83.818                          84   both  \n",
       "844                -23.0      78.000                          78   both  \n",
       "845                  2.0      94.500                          95   both  \n",
       "\n",
       "[846 rows x 9 columns]"
      ]
     },
     "execution_count": 243,
     "metadata": {},
     "output_type": "execute_result"
    }
   ],
   "source": [
    "df_merged"
   ]
  },
  {
   "cell_type": "code",
   "execution_count": 244,
   "id": "d70773ac",
   "metadata": {},
   "outputs": [],
   "source": [
    "# Dropping merged and unnamed columm\n",
    "\n",
    "df_merged = df_merged.drop(columns = ['_merge'])"
   ]
  },
  {
   "cell_type": "code",
   "execution_count": 245,
   "id": "c23f38dc",
   "metadata": {},
   "outputs": [
    {
     "data": {
      "text/html": [
       "<div>\n",
       "<style scoped>\n",
       "    .dataframe tbody tr th:only-of-type {\n",
       "        vertical-align: middle;\n",
       "    }\n",
       "\n",
       "    .dataframe tbody tr th {\n",
       "        vertical-align: top;\n",
       "    }\n",
       "\n",
       "    .dataframe thead th {\n",
       "        text-align: right;\n",
       "    }\n",
       "</style>\n",
       "<table border=\"1\" class=\"dataframe\">\n",
       "  <thead>\n",
       "    <tr style=\"text-align: right;\">\n",
       "      <th></th>\n",
       "      <th>state</th>\n",
       "      <th>id</th>\n",
       "      <th>county names</th>\n",
       "      <th>population_served</th>\n",
       "      <th>collection date</th>\n",
       "      <th>15dy percent change</th>\n",
       "      <th>percentile</th>\n",
       "      <th>current percentile levels</th>\n",
       "    </tr>\n",
       "  </thead>\n",
       "  <tbody>\n",
       "    <tr>\n",
       "      <th>0</th>\n",
       "      <td>Hawaii</td>\n",
       "      <td>710</td>\n",
       "      <td>Kauai</td>\n",
       "      <td>10000</td>\n",
       "      <td>2022-12-27</td>\n",
       "      <td>5649.0</td>\n",
       "      <td>27.500</td>\n",
       "      <td>2</td>\n",
       "    </tr>\n",
       "    <tr>\n",
       "      <th>1</th>\n",
       "      <td>Maryland</td>\n",
       "      <td>547</td>\n",
       "      <td>Howard</td>\n",
       "      <td>270000</td>\n",
       "      <td>2022-12-27</td>\n",
       "      <td>-48.0</td>\n",
       "      <td>52.800</td>\n",
       "      <td>58</td>\n",
       "    </tr>\n",
       "    <tr>\n",
       "      <th>2</th>\n",
       "      <td>New York</td>\n",
       "      <td>426</td>\n",
       "      <td>Orange</td>\n",
       "      <td>6729</td>\n",
       "      <td>2022-12-27</td>\n",
       "      <td>-99.0</td>\n",
       "      <td>53.250</td>\n",
       "      <td>64</td>\n",
       "    </tr>\n",
       "    <tr>\n",
       "      <th>3</th>\n",
       "      <td>Oregon</td>\n",
       "      <td>932</td>\n",
       "      <td>Deschutes</td>\n",
       "      <td>92850</td>\n",
       "      <td>2022-12-27</td>\n",
       "      <td>-100.0</td>\n",
       "      <td>15.333</td>\n",
       "      <td>0</td>\n",
       "    </tr>\n",
       "    <tr>\n",
       "      <th>4</th>\n",
       "      <td>Oregon</td>\n",
       "      <td>956</td>\n",
       "      <td>Jackson</td>\n",
       "      <td>133708</td>\n",
       "      <td>2022-12-27</td>\n",
       "      <td>-70.0</td>\n",
       "      <td>20.333</td>\n",
       "      <td>0</td>\n",
       "    </tr>\n",
       "  </tbody>\n",
       "</table>\n",
       "</div>"
      ],
      "text/plain": [
       "      state   id county names  population_served collection date  \\\n",
       "0    Hawaii  710        Kauai              10000      2022-12-27   \n",
       "1  Maryland  547       Howard             270000      2022-12-27   \n",
       "2  New York  426       Orange               6729      2022-12-27   \n",
       "3    Oregon  932    Deschutes              92850      2022-12-27   \n",
       "4    Oregon  956      Jackson             133708      2022-12-27   \n",
       "\n",
       "   15dy percent change  percentile  current percentile levels   \n",
       "0               5649.0      27.500                           2  \n",
       "1                -48.0      52.800                          58  \n",
       "2                -99.0      53.250                          64  \n",
       "3               -100.0      15.333                           0  \n",
       "4                -70.0      20.333                           0  "
      ]
     },
     "execution_count": 245,
     "metadata": {},
     "output_type": "execute_result"
    }
   ],
   "source": [
    "df_merged.head()"
   ]
  },
  {
   "cell_type": "code",
   "execution_count": 246,
   "id": "43c44ca1",
   "metadata": {},
   "outputs": [],
   "source": [
    "df_merged.reset_index(drop= True, inplace= True)"
   ]
  },
  {
   "cell_type": "code",
   "execution_count": 247,
   "id": "b130852c",
   "metadata": {},
   "outputs": [
    {
     "data": {
      "text/html": [
       "<div>\n",
       "<style scoped>\n",
       "    .dataframe tbody tr th:only-of-type {\n",
       "        vertical-align: middle;\n",
       "    }\n",
       "\n",
       "    .dataframe tbody tr th {\n",
       "        vertical-align: top;\n",
       "    }\n",
       "\n",
       "    .dataframe thead th {\n",
       "        text-align: right;\n",
       "    }\n",
       "</style>\n",
       "<table border=\"1\" class=\"dataframe\">\n",
       "  <thead>\n",
       "    <tr style=\"text-align: right;\">\n",
       "      <th></th>\n",
       "      <th>state</th>\n",
       "      <th>id</th>\n",
       "      <th>county names</th>\n",
       "      <th>population_served</th>\n",
       "      <th>collection date</th>\n",
       "      <th>15dy percent change</th>\n",
       "      <th>percentile</th>\n",
       "      <th>current percentile levels</th>\n",
       "    </tr>\n",
       "  </thead>\n",
       "  <tbody>\n",
       "    <tr>\n",
       "      <th>0</th>\n",
       "      <td>Hawaii</td>\n",
       "      <td>710</td>\n",
       "      <td>Kauai</td>\n",
       "      <td>10000</td>\n",
       "      <td>2022-12-27</td>\n",
       "      <td>5649.0</td>\n",
       "      <td>27.500</td>\n",
       "      <td>2</td>\n",
       "    </tr>\n",
       "    <tr>\n",
       "      <th>1</th>\n",
       "      <td>Maryland</td>\n",
       "      <td>547</td>\n",
       "      <td>Howard</td>\n",
       "      <td>270000</td>\n",
       "      <td>2022-12-27</td>\n",
       "      <td>-48.0</td>\n",
       "      <td>52.800</td>\n",
       "      <td>58</td>\n",
       "    </tr>\n",
       "    <tr>\n",
       "      <th>2</th>\n",
       "      <td>New York</td>\n",
       "      <td>426</td>\n",
       "      <td>Orange</td>\n",
       "      <td>6729</td>\n",
       "      <td>2022-12-27</td>\n",
       "      <td>-99.0</td>\n",
       "      <td>53.250</td>\n",
       "      <td>64</td>\n",
       "    </tr>\n",
       "    <tr>\n",
       "      <th>3</th>\n",
       "      <td>Oregon</td>\n",
       "      <td>932</td>\n",
       "      <td>Deschutes</td>\n",
       "      <td>92850</td>\n",
       "      <td>2022-12-27</td>\n",
       "      <td>-100.0</td>\n",
       "      <td>15.333</td>\n",
       "      <td>0</td>\n",
       "    </tr>\n",
       "    <tr>\n",
       "      <th>4</th>\n",
       "      <td>Oregon</td>\n",
       "      <td>956</td>\n",
       "      <td>Jackson</td>\n",
       "      <td>133708</td>\n",
       "      <td>2022-12-27</td>\n",
       "      <td>-70.0</td>\n",
       "      <td>20.333</td>\n",
       "      <td>0</td>\n",
       "    </tr>\n",
       "  </tbody>\n",
       "</table>\n",
       "</div>"
      ],
      "text/plain": [
       "      state   id county names  population_served collection date  \\\n",
       "0    Hawaii  710        Kauai              10000      2022-12-27   \n",
       "1  Maryland  547       Howard             270000      2022-12-27   \n",
       "2  New York  426       Orange               6729      2022-12-27   \n",
       "3    Oregon  932    Deschutes              92850      2022-12-27   \n",
       "4    Oregon  956      Jackson             133708      2022-12-27   \n",
       "\n",
       "   15dy percent change  percentile  current percentile levels   \n",
       "0               5649.0      27.500                           2  \n",
       "1                -48.0      52.800                          58  \n",
       "2                -99.0      53.250                          64  \n",
       "3               -100.0      15.333                           0  \n",
       "4                -70.0      20.333                           0  "
      ]
     },
     "execution_count": 247,
     "metadata": {},
     "output_type": "execute_result"
    }
   ],
   "source": [
    "df_merged.head()"
   ]
  },
  {
   "cell_type": "code",
   "execution_count": 248,
   "id": "c6dbc866",
   "metadata": {},
   "outputs": [
    {
     "name": "stdout",
     "output_type": "stream",
     "text": [
      "             state    id     county names  population_served collection date  \\\n",
      "0           Hawaii   710            Kauai              10000      2022-12-27   \n",
      "1         Maryland   547           Howard             270000      2022-12-27   \n",
      "2         New York   426           Orange               6729      2022-12-27   \n",
      "3           Oregon   932        Deschutes              92850      2022-12-27   \n",
      "4           Oregon   956          Jackson             133708      2022-12-27   \n",
      "..             ...   ...              ...                ...             ...   \n",
      "841        Montana   977  Lewis And Clark              37125      2022-12-27   \n",
      "842         Oregon   950        Josephine              37725      2022-12-27   \n",
      "843  West Virginia   735           Taylor               6071      2022-12-27   \n",
      "844     California  1709   San Bernardino             890000      2022-12-27   \n",
      "845          Texas  1683           Dallas             186000      2022-12-27   \n",
      "\n",
      "     15dy percent change  percentile  current percentile levels   \n",
      "0                 5649.0      27.500                           2  \n",
      "1                  -48.0      52.800                          58  \n",
      "2                  -99.0      53.250                          64  \n",
      "3                 -100.0      15.333                           0  \n",
      "4                  -70.0      20.333                           0  \n",
      "..                   ...         ...                         ...  \n",
      "841                192.0      59.333                          60  \n",
      "842               -100.0      11.000                           0  \n",
      "843                -95.0      83.818                          84  \n",
      "844                -23.0      78.000                          78  \n",
      "845                  2.0      94.500                          95  \n",
      "\n",
      "[846 rows x 8 columns]\n"
     ]
    }
   ],
   "source": [
    "print(df_merged)"
   ]
  },
  {
   "cell_type": "markdown",
   "id": "b75143c9",
   "metadata": {},
   "source": [
    "## 8. Exporting merged data"
   ]
  },
  {
   "cell_type": "code",
   "execution_count": 253,
   "id": "96c9e1e3",
   "metadata": {},
   "outputs": [],
   "source": [
    "df_merged.to_csv(os.path.join(path, 'Prepared', 'Clean NWWS.csv'))"
   ]
  },
  {
   "cell_type": "code",
   "execution_count": null,
   "id": "a1e1a3ec",
   "metadata": {},
   "outputs": [],
   "source": []
  }
 ],
 "metadata": {
  "kernelspec": {
   "display_name": "Python 3 (ipykernel)",
   "language": "python",
   "name": "python3"
  },
  "language_info": {
   "codemirror_mode": {
    "name": "ipython",
    "version": 3
   },
   "file_extension": ".py",
   "mimetype": "text/x-python",
   "name": "python",
   "nbconvert_exporter": "python",
   "pygments_lexer": "ipython3",
   "version": "3.9.12"
  }
 },
 "nbformat": 4,
 "nbformat_minor": 5
}
