{
 "cells": [
  {
   "cell_type": "markdown",
   "id": "58497505",
   "metadata": {},
   "source": [
    "## 1. Importing libraries"
   ]
  },
  {
   "cell_type": "code",
   "execution_count": 9,
   "id": "67a295ce",
   "metadata": {},
   "outputs": [],
   "source": [
    "import pandas as pd\n",
    "import numpy as np\n",
    "import seaborn as sns\n",
    "import matplotlib.pyplot as plt\n",
    "import matplotlib\n",
    "import os"
   ]
  },
  {
   "cell_type": "code",
   "execution_count": 10,
   "id": "bcb6b33c",
   "metadata": {},
   "outputs": [
    {
     "data": {
      "text/plain": [
       "'3.5.1'"
      ]
     },
     "execution_count": 10,
     "metadata": {},
     "output_type": "execute_result"
    }
   ],
   "source": [
    "#Checking for matplotlib version\n",
    "matplotlib.__version__"
   ]
  },
  {
   "cell_type": "code",
   "execution_count": 11,
   "id": "e43045c2",
   "metadata": {},
   "outputs": [],
   "source": [
    "# Ensure the charts are displayed in the notebook without the need to \"call\" them specifically.\n",
    "%matplotlib inline"
   ]
  },
  {
   "cell_type": "code",
   "execution_count": 12,
   "id": "86ced4e6",
   "metadata": {},
   "outputs": [],
   "source": [
    "# Defining path\n",
    "path = '/Users/mdiaz/Desktop/NWWS data/Data'"
   ]
  },
  {
   "cell_type": "code",
   "execution_count": 13,
   "id": "5296659b",
   "metadata": {},
   "outputs": [],
   "source": [
    "# Import data\n",
    "df = pd.read_csv(os.path.join(path, 'Prepared', 'Clean NWWS.csv'))"
   ]
  },
  {
   "cell_type": "code",
   "execution_count": 14,
   "id": "d0c40f01",
   "metadata": {},
   "outputs": [
    {
     "data": {
      "text/html": [
       "<div>\n",
       "<style scoped>\n",
       "    .dataframe tbody tr th:only-of-type {\n",
       "        vertical-align: middle;\n",
       "    }\n",
       "\n",
       "    .dataframe tbody tr th {\n",
       "        vertical-align: top;\n",
       "    }\n",
       "\n",
       "    .dataframe thead th {\n",
       "        text-align: right;\n",
       "    }\n",
       "</style>\n",
       "<table border=\"1\" class=\"dataframe\">\n",
       "  <thead>\n",
       "    <tr style=\"text-align: right;\">\n",
       "      <th></th>\n",
       "      <th>Unnamed: 0</th>\n",
       "      <th>state</th>\n",
       "      <th>id</th>\n",
       "      <th>county names</th>\n",
       "      <th>population_served</th>\n",
       "      <th>collection date</th>\n",
       "      <th>15dy percent change</th>\n",
       "      <th>percentile</th>\n",
       "      <th>current percentile levels</th>\n",
       "      <th>_merge</th>\n",
       "    </tr>\n",
       "  </thead>\n",
       "  <tbody>\n",
       "    <tr>\n",
       "      <th>0</th>\n",
       "      <td>0</td>\n",
       "      <td>Hawaii</td>\n",
       "      <td>710</td>\n",
       "      <td>Kauai</td>\n",
       "      <td>10000</td>\n",
       "      <td>2022-12-27</td>\n",
       "      <td>5649.0</td>\n",
       "      <td>27.500</td>\n",
       "      <td>2</td>\n",
       "      <td>both</td>\n",
       "    </tr>\n",
       "    <tr>\n",
       "      <th>1</th>\n",
       "      <td>1</td>\n",
       "      <td>Maryland</td>\n",
       "      <td>547</td>\n",
       "      <td>Howard</td>\n",
       "      <td>270000</td>\n",
       "      <td>2022-12-27</td>\n",
       "      <td>-48.0</td>\n",
       "      <td>52.800</td>\n",
       "      <td>58</td>\n",
       "      <td>both</td>\n",
       "    </tr>\n",
       "    <tr>\n",
       "      <th>2</th>\n",
       "      <td>2</td>\n",
       "      <td>New York</td>\n",
       "      <td>426</td>\n",
       "      <td>Orange</td>\n",
       "      <td>6729</td>\n",
       "      <td>2022-12-27</td>\n",
       "      <td>-99.0</td>\n",
       "      <td>53.250</td>\n",
       "      <td>64</td>\n",
       "      <td>both</td>\n",
       "    </tr>\n",
       "    <tr>\n",
       "      <th>3</th>\n",
       "      <td>3</td>\n",
       "      <td>Oregon</td>\n",
       "      <td>932</td>\n",
       "      <td>Deschutes</td>\n",
       "      <td>92850</td>\n",
       "      <td>2022-12-27</td>\n",
       "      <td>-100.0</td>\n",
       "      <td>15.333</td>\n",
       "      <td>0</td>\n",
       "      <td>both</td>\n",
       "    </tr>\n",
       "    <tr>\n",
       "      <th>4</th>\n",
       "      <td>4</td>\n",
       "      <td>Oregon</td>\n",
       "      <td>956</td>\n",
       "      <td>Jackson</td>\n",
       "      <td>133708</td>\n",
       "      <td>2022-12-27</td>\n",
       "      <td>-70.0</td>\n",
       "      <td>20.333</td>\n",
       "      <td>0</td>\n",
       "      <td>both</td>\n",
       "    </tr>\n",
       "  </tbody>\n",
       "</table>\n",
       "</div>"
      ],
      "text/plain": [
       "   Unnamed: 0     state   id county names  population_served collection date  \\\n",
       "0           0    Hawaii  710        Kauai              10000      2022-12-27   \n",
       "1           1  Maryland  547       Howard             270000      2022-12-27   \n",
       "2           2  New York  426       Orange               6729      2022-12-27   \n",
       "3           3    Oregon  932    Deschutes              92850      2022-12-27   \n",
       "4           4    Oregon  956      Jackson             133708      2022-12-27   \n",
       "\n",
       "   15dy percent change  percentile  current percentile levels  _merge  \n",
       "0               5649.0      27.500                           2   both  \n",
       "1                -48.0      52.800                          58   both  \n",
       "2                -99.0      53.250                          64   both  \n",
       "3               -100.0      15.333                           0   both  \n",
       "4                -70.0      20.333                           0   both  "
      ]
     },
     "execution_count": 14,
     "metadata": {},
     "output_type": "execute_result"
    }
   ],
   "source": [
    "# Data check \n",
    "df.head()"
   ]
  },
  {
   "cell_type": "markdown",
   "id": "593a4b22",
   "metadata": {},
   "source": [
    "## 2. Data Check"
   ]
  },
  {
   "cell_type": "code",
   "execution_count": 15,
   "id": "c0986a0d",
   "metadata": {},
   "outputs": [
    {
     "data": {
      "text/html": [
       "<div>\n",
       "<style scoped>\n",
       "    .dataframe tbody tr th:only-of-type {\n",
       "        vertical-align: middle;\n",
       "    }\n",
       "\n",
       "    .dataframe tbody tr th {\n",
       "        vertical-align: top;\n",
       "    }\n",
       "\n",
       "    .dataframe thead th {\n",
       "        text-align: right;\n",
       "    }\n",
       "</style>\n",
       "<table border=\"1\" class=\"dataframe\">\n",
       "  <thead>\n",
       "    <tr style=\"text-align: right;\">\n",
       "      <th></th>\n",
       "      <th>Unnamed: 0</th>\n",
       "      <th>state</th>\n",
       "      <th>id</th>\n",
       "      <th>county names</th>\n",
       "      <th>population_served</th>\n",
       "      <th>collection date</th>\n",
       "      <th>15dy percent change</th>\n",
       "      <th>percentile</th>\n",
       "      <th>current percentile levels</th>\n",
       "    </tr>\n",
       "  </thead>\n",
       "  <tbody>\n",
       "    <tr>\n",
       "      <th>0</th>\n",
       "      <td>0</td>\n",
       "      <td>Hawaii</td>\n",
       "      <td>710</td>\n",
       "      <td>Kauai</td>\n",
       "      <td>10000</td>\n",
       "      <td>2022-12-27</td>\n",
       "      <td>5649.0</td>\n",
       "      <td>27.500</td>\n",
       "      <td>2</td>\n",
       "    </tr>\n",
       "    <tr>\n",
       "      <th>1</th>\n",
       "      <td>1</td>\n",
       "      <td>Maryland</td>\n",
       "      <td>547</td>\n",
       "      <td>Howard</td>\n",
       "      <td>270000</td>\n",
       "      <td>2022-12-27</td>\n",
       "      <td>-48.0</td>\n",
       "      <td>52.800</td>\n",
       "      <td>58</td>\n",
       "    </tr>\n",
       "    <tr>\n",
       "      <th>2</th>\n",
       "      <td>2</td>\n",
       "      <td>New York</td>\n",
       "      <td>426</td>\n",
       "      <td>Orange</td>\n",
       "      <td>6729</td>\n",
       "      <td>2022-12-27</td>\n",
       "      <td>-99.0</td>\n",
       "      <td>53.250</td>\n",
       "      <td>64</td>\n",
       "    </tr>\n",
       "    <tr>\n",
       "      <th>3</th>\n",
       "      <td>3</td>\n",
       "      <td>Oregon</td>\n",
       "      <td>932</td>\n",
       "      <td>Deschutes</td>\n",
       "      <td>92850</td>\n",
       "      <td>2022-12-27</td>\n",
       "      <td>-100.0</td>\n",
       "      <td>15.333</td>\n",
       "      <td>0</td>\n",
       "    </tr>\n",
       "    <tr>\n",
       "      <th>4</th>\n",
       "      <td>4</td>\n",
       "      <td>Oregon</td>\n",
       "      <td>956</td>\n",
       "      <td>Jackson</td>\n",
       "      <td>133708</td>\n",
       "      <td>2022-12-27</td>\n",
       "      <td>-70.0</td>\n",
       "      <td>20.333</td>\n",
       "      <td>0</td>\n",
       "    </tr>\n",
       "    <tr>\n",
       "      <th>...</th>\n",
       "      <td>...</td>\n",
       "      <td>...</td>\n",
       "      <td>...</td>\n",
       "      <td>...</td>\n",
       "      <td>...</td>\n",
       "      <td>...</td>\n",
       "      <td>...</td>\n",
       "      <td>...</td>\n",
       "      <td>...</td>\n",
       "    </tr>\n",
       "    <tr>\n",
       "      <th>841</th>\n",
       "      <td>841</td>\n",
       "      <td>Montana</td>\n",
       "      <td>977</td>\n",
       "      <td>Lewis And Clark</td>\n",
       "      <td>37125</td>\n",
       "      <td>2022-12-27</td>\n",
       "      <td>192.0</td>\n",
       "      <td>59.333</td>\n",
       "      <td>60</td>\n",
       "    </tr>\n",
       "    <tr>\n",
       "      <th>842</th>\n",
       "      <td>842</td>\n",
       "      <td>Oregon</td>\n",
       "      <td>950</td>\n",
       "      <td>Josephine</td>\n",
       "      <td>37725</td>\n",
       "      <td>2022-12-27</td>\n",
       "      <td>-100.0</td>\n",
       "      <td>11.000</td>\n",
       "      <td>0</td>\n",
       "    </tr>\n",
       "    <tr>\n",
       "      <th>843</th>\n",
       "      <td>843</td>\n",
       "      <td>West Virginia</td>\n",
       "      <td>735</td>\n",
       "      <td>Taylor</td>\n",
       "      <td>6071</td>\n",
       "      <td>2022-12-27</td>\n",
       "      <td>-95.0</td>\n",
       "      <td>83.818</td>\n",
       "      <td>84</td>\n",
       "    </tr>\n",
       "    <tr>\n",
       "      <th>844</th>\n",
       "      <td>844</td>\n",
       "      <td>California</td>\n",
       "      <td>1709</td>\n",
       "      <td>San Bernardino</td>\n",
       "      <td>890000</td>\n",
       "      <td>2022-12-27</td>\n",
       "      <td>-23.0</td>\n",
       "      <td>78.000</td>\n",
       "      <td>78</td>\n",
       "    </tr>\n",
       "    <tr>\n",
       "      <th>845</th>\n",
       "      <td>845</td>\n",
       "      <td>Texas</td>\n",
       "      <td>1683</td>\n",
       "      <td>Dallas</td>\n",
       "      <td>186000</td>\n",
       "      <td>2022-12-27</td>\n",
       "      <td>2.0</td>\n",
       "      <td>94.500</td>\n",
       "      <td>95</td>\n",
       "    </tr>\n",
       "  </tbody>\n",
       "</table>\n",
       "<p>846 rows × 9 columns</p>\n",
       "</div>"
      ],
      "text/plain": [
       "     Unnamed: 0          state    id     county names  population_served  \\\n",
       "0             0         Hawaii   710            Kauai              10000   \n",
       "1             1       Maryland   547           Howard             270000   \n",
       "2             2       New York   426           Orange               6729   \n",
       "3             3         Oregon   932        Deschutes              92850   \n",
       "4             4         Oregon   956          Jackson             133708   \n",
       "..          ...            ...   ...              ...                ...   \n",
       "841         841        Montana   977  Lewis And Clark              37125   \n",
       "842         842         Oregon   950        Josephine              37725   \n",
       "843         843  West Virginia   735           Taylor               6071   \n",
       "844         844     California  1709   San Bernardino             890000   \n",
       "845         845          Texas  1683           Dallas             186000   \n",
       "\n",
       "    collection date  15dy percent change  percentile  \\\n",
       "0        2022-12-27               5649.0      27.500   \n",
       "1        2022-12-27                -48.0      52.800   \n",
       "2        2022-12-27                -99.0      53.250   \n",
       "3        2022-12-27               -100.0      15.333   \n",
       "4        2022-12-27                -70.0      20.333   \n",
       "..              ...                  ...         ...   \n",
       "841      2022-12-27                192.0      59.333   \n",
       "842      2022-12-27               -100.0      11.000   \n",
       "843      2022-12-27                -95.0      83.818   \n",
       "844      2022-12-27                -23.0      78.000   \n",
       "845      2022-12-27                  2.0      94.500   \n",
       "\n",
       "     current percentile levels   \n",
       "0                             2  \n",
       "1                            58  \n",
       "2                            64  \n",
       "3                             0  \n",
       "4                             0  \n",
       "..                          ...  \n",
       "841                          60  \n",
       "842                           0  \n",
       "843                          84  \n",
       "844                          78  \n",
       "845                          95  \n",
       "\n",
       "[846 rows x 9 columns]"
      ]
     },
     "execution_count": 15,
     "metadata": {},
     "output_type": "execute_result"
    }
   ],
   "source": [
    "# Dropping merged columm\n",
    "df.drop(columns = ['_merge'])"
   ]
  },
  {
   "cell_type": "code",
   "execution_count": 16,
   "id": "3929a371",
   "metadata": {},
   "outputs": [
    {
     "data": {
      "text/plain": [
       "Unnamed: 0                      int64\n",
       "state                          object\n",
       "id                              int64\n",
       "county names                   object\n",
       "population_served               int64\n",
       "collection date                object\n",
       "15dy percent change           float64\n",
       "percentile                    float64\n",
       "current percentile levels       int64\n",
       "_merge                         object\n",
       "dtype: object"
      ]
     },
     "execution_count": 16,
     "metadata": {},
     "output_type": "execute_result"
    }
   ],
   "source": [
    "# Types\n",
    "df.dtypes"
   ]
  },
  {
   "cell_type": "code",
   "execution_count": 17,
   "id": "8180b9ee",
   "metadata": {},
   "outputs": [
    {
     "data": {
      "text/plain": [
       "Unnamed: 0                    0\n",
       "state                         0\n",
       "id                            0\n",
       "county names                  0\n",
       "population_served             0\n",
       "collection date               0\n",
       "15dy percent change           0\n",
       "percentile                    0\n",
       "current percentile levels     0\n",
       "_merge                        0\n",
       "dtype: int64"
      ]
     },
     "execution_count": 17,
     "metadata": {},
     "output_type": "execute_result"
    }
   ],
   "source": [
    "# Check for missing values\n",
    "df.isnull().sum() # No missing values!"
   ]
  },
  {
   "cell_type": "code",
   "execution_count": 18,
   "id": "d6f7481b",
   "metadata": {},
   "outputs": [],
   "source": [
    "# Locate duplicates\n",
    "df_dups = df[df.duplicated()]"
   ]
  },
  {
   "cell_type": "code",
   "execution_count": 19,
   "id": "b04d71ee",
   "metadata": {},
   "outputs": [
    {
     "data": {
      "text/plain": [
       "(0, 10)"
      ]
     },
     "execution_count": 19,
     "metadata": {},
     "output_type": "execute_result"
    }
   ],
   "source": [
    "df_dups.shape # No duplicates "
   ]
  },
  {
   "cell_type": "code",
   "execution_count": 20,
   "id": "d09376b6",
   "metadata": {},
   "outputs": [],
   "source": [
    "#Mixed data types\n",
    "for col in df.columns.tolist():\n",
    "      weird = (df[[col]].applymap(type) != df[[col]].iloc[0].apply(type)).any(axis = 1)\n",
    "      if len (df[weird]) > 0:\n",
    "        print (col)"
   ]
  },
  {
   "cell_type": "markdown",
   "id": "2094bb79",
   "metadata": {},
   "source": [
    "During the cleaning process in the 1st data script, there were mixed data types for '15dy percentile change and 'percentile' columns with Nan or New Site, which were placeholders for sites that did not submit the test results. "
   ]
  },
  {
   "cell_type": "markdown",
   "id": "1fababef",
   "metadata": {},
   "source": [
    "## 3. Exploring relationships"
   ]
  },
  {
   "cell_type": "markdown",
   "id": "8575579b",
   "metadata": {},
   "source": [
    "### Correlations"
   ]
  },
  {
   "cell_type": "code",
   "execution_count": 21,
   "id": "a64744af",
   "metadata": {},
   "outputs": [
    {
     "data": {
      "text/html": [
       "<div>\n",
       "<style scoped>\n",
       "    .dataframe tbody tr th:only-of-type {\n",
       "        vertical-align: middle;\n",
       "    }\n",
       "\n",
       "    .dataframe tbody tr th {\n",
       "        vertical-align: top;\n",
       "    }\n",
       "\n",
       "    .dataframe thead th {\n",
       "        text-align: right;\n",
       "    }\n",
       "</style>\n",
       "<table border=\"1\" class=\"dataframe\">\n",
       "  <thead>\n",
       "    <tr style=\"text-align: right;\">\n",
       "      <th></th>\n",
       "      <th>Unnamed: 0</th>\n",
       "      <th>id</th>\n",
       "      <th>population_served</th>\n",
       "      <th>15dy percent change</th>\n",
       "      <th>percentile</th>\n",
       "      <th>current percentile levels</th>\n",
       "    </tr>\n",
       "  </thead>\n",
       "  <tbody>\n",
       "    <tr>\n",
       "      <th>Unnamed: 0</th>\n",
       "      <td>1.000000</td>\n",
       "      <td>0.001289</td>\n",
       "      <td>0.007864</td>\n",
       "      <td>-0.044266</td>\n",
       "      <td>-0.046608</td>\n",
       "      <td>0.087838</td>\n",
       "    </tr>\n",
       "    <tr>\n",
       "      <th>id</th>\n",
       "      <td>0.001289</td>\n",
       "      <td>1.000000</td>\n",
       "      <td>0.002069</td>\n",
       "      <td>0.001397</td>\n",
       "      <td>0.216946</td>\n",
       "      <td>-0.184091</td>\n",
       "    </tr>\n",
       "    <tr>\n",
       "      <th>population_served</th>\n",
       "      <td>0.007864</td>\n",
       "      <td>0.002069</td>\n",
       "      <td>1.000000</td>\n",
       "      <td>-0.018965</td>\n",
       "      <td>0.007304</td>\n",
       "      <td>0.097371</td>\n",
       "    </tr>\n",
       "    <tr>\n",
       "      <th>15dy percent change</th>\n",
       "      <td>-0.044266</td>\n",
       "      <td>0.001397</td>\n",
       "      <td>-0.018965</td>\n",
       "      <td>1.000000</td>\n",
       "      <td>-0.021241</td>\n",
       "      <td>-0.068637</td>\n",
       "    </tr>\n",
       "    <tr>\n",
       "      <th>percentile</th>\n",
       "      <td>-0.046608</td>\n",
       "      <td>0.216946</td>\n",
       "      <td>0.007304</td>\n",
       "      <td>-0.021241</td>\n",
       "      <td>1.000000</td>\n",
       "      <td>-0.277836</td>\n",
       "    </tr>\n",
       "    <tr>\n",
       "      <th>current percentile levels</th>\n",
       "      <td>0.087838</td>\n",
       "      <td>-0.184091</td>\n",
       "      <td>0.097371</td>\n",
       "      <td>-0.068637</td>\n",
       "      <td>-0.277836</td>\n",
       "      <td>1.000000</td>\n",
       "    </tr>\n",
       "  </tbody>\n",
       "</table>\n",
       "</div>"
      ],
      "text/plain": [
       "                            Unnamed: 0        id  population_served  \\\n",
       "Unnamed: 0                    1.000000  0.001289           0.007864   \n",
       "id                            0.001289  1.000000           0.002069   \n",
       "population_served             0.007864  0.002069           1.000000   \n",
       "15dy percent change          -0.044266  0.001397          -0.018965   \n",
       "percentile                   -0.046608  0.216946           0.007304   \n",
       "current percentile levels     0.087838 -0.184091           0.097371   \n",
       "\n",
       "                            15dy percent change  percentile  \\\n",
       "Unnamed: 0                            -0.044266   -0.046608   \n",
       "id                                     0.001397    0.216946   \n",
       "population_served                     -0.018965    0.007304   \n",
       "15dy percent change                    1.000000   -0.021241   \n",
       "percentile                            -0.021241    1.000000   \n",
       "current percentile levels             -0.068637   -0.277836   \n",
       "\n",
       "                            current percentile levels   \n",
       "Unnamed: 0                                    0.087838  \n",
       "id                                           -0.184091  \n",
       "population_served                             0.097371  \n",
       "15dy percent change                          -0.068637  \n",
       "percentile                                   -0.277836  \n",
       "current percentile levels                     1.000000  "
      ]
     },
     "execution_count": 21,
     "metadata": {},
     "output_type": "execute_result"
    }
   ],
   "source": [
    "# Create a correlation matrix using pandas\n",
    "df.corr()"
   ]
  },
  {
   "cell_type": "code",
   "execution_count": 22,
   "id": "01cfc1cf",
   "metadata": {},
   "outputs": [
    {
     "data": {
      "image/png": "[encoded data removed]",
      "text/plain": [
       "<Figure size 288x288 with 1 Axes>"
      ]
     },
     "metadata": {
      "needs_background": "light"
     },
     "output_type": "display_data"
    }
   ],
   "source": [
    "# Create a correlation heatmap using matplotlib\n",
    "plt.matshow(df.corr())\n",
    "plt.show()"
   ]
  },
  {
   "cell_type": "code",
   "execution_count": 23,
   "id": "102d26ca",
   "metadata": {},
   "outputs": [
    {
     "data": {
      "image/png": "[encoded data removed]",
      "text/plain": [
       "<Figure size 288x288 with 1 Axes>"
      ]
     },
     "metadata": {
      "needs_background": "light"
     },
     "output_type": "display_data"
    }
   ],
   "source": [
    "# Save visual to working directory\n",
    "plt.matshow(df.corr())\n",
    "plt.savefig(\"out.png\")"
   ]
  },
  {
   "cell_type": "code",
   "execution_count": 24,
   "id": "011f194f",
   "metadata": {},
   "outputs": [
    {
     "data": {
      "text/plain": [
       "'/Users/mdiaz/Desktop/NWWS data/Data/Scripts'"
      ]
     },
     "execution_count": 24,
     "metadata": {},
     "output_type": "execute_result"
    }
   ],
   "source": [
    "#check current directory\n",
    "cwd = os.getcwd()\n",
    "cwd"
   ]
  },
  {
   "cell_type": "code",
   "execution_count": 25,
   "id": "d56cc984",
   "metadata": {},
   "outputs": [
    {
     "data": {
      "text/plain": [
       "Text(0.5, 1.0, 'Correlation Matrix')"
      ]
     },
     "execution_count": 25,
     "metadata": {},
     "output_type": "execute_result"
    },
    {
     "data": {
      "image/png": "[encoded data removed]",
      "text/plain": [
       "<Figure size 576x576 with 2 Axes>"
      ]
     },
     "metadata": {
      "needs_background": "light"
     },
     "output_type": "display_data"
    }
   ],
   "source": [
    "# Add labels, a legend, and change the size of the heatmap\n",
    "\n",
    "f = plt.figure(figsize=(8, 8)) # figure size \n",
    "plt.matshow(df.corr(), fignum=f.number) # type of plot\n",
    "plt.xticks(range(df.shape[1]), df.columns, fontsize=14, rotation=45) # x axis labels\n",
    "plt.yticks(range(df.shape[1]), df.columns, fontsize=14) # y axis labels\n",
    "cb = plt.colorbar() # add a colour legend (called colorbar)\n",
    "cb.ax.tick_params(labelsize=14) # add font size\n",
    "plt.title('Correlation Matrix', fontsize=14) # add title"
   ]
  },
  {
   "cell_type": "markdown",
   "id": "91629288",
   "metadata": {},
   "source": [
    "The coefficients in the plot mean that there are some strong relationships between some variables. "
   ]
  },
  {
   "cell_type": "markdown",
   "id": "82e9e65d",
   "metadata": {},
   "source": [
    "### Creating Correlation heatmap with seaborn"
   ]
  },
  {
   "cell_type": "code",
   "execution_count": 26,
   "id": "e1e9b637",
   "metadata": {},
   "outputs": [
    {
     "data": {
      "text/plain": [
       "Index(['Unnamed: 0', 'state', 'id', 'county names', 'population_served',\n",
       "       'collection date', '15dy percent change', 'percentile',\n",
       "       'current percentile levels ', '_merge'],\n",
       "      dtype='object')"
      ]
     },
     "execution_count": 26,
     "metadata": {},
     "output_type": "execute_result"
    }
   ],
   "source": [
    "df.columns"
   ]
  },
  {
   "cell_type": "code",
   "execution_count": 27,
   "id": "ae75af53",
   "metadata": {},
   "outputs": [],
   "source": [
    "# Create a subset excluding the _merge columns \n",
    "sub = df[['state', 'county names', 'population_served', '15dy percent change','percentile', 'current percentile levels ']]"
   ]
  },
  {
   "cell_type": "code",
   "execution_count": 28,
   "id": "60c229d1",
   "metadata": {},
   "outputs": [
    {
     "data": {
      "text/html": [
       "<div>\n",
       "<style scoped>\n",
       "    .dataframe tbody tr th:only-of-type {\n",
       "        vertical-align: middle;\n",
       "    }\n",
       "\n",
       "    .dataframe tbody tr th {\n",
       "        vertical-align: top;\n",
       "    }\n",
       "\n",
       "    .dataframe thead th {\n",
       "        text-align: right;\n",
       "    }\n",
       "</style>\n",
       "<table border=\"1\" class=\"dataframe\">\n",
       "  <thead>\n",
       "    <tr style=\"text-align: right;\">\n",
       "      <th></th>\n",
       "      <th>state</th>\n",
       "      <th>county names</th>\n",
       "      <th>population_served</th>\n",
       "      <th>15dy percent change</th>\n",
       "      <th>percentile</th>\n",
       "      <th>current percentile levels</th>\n",
       "    </tr>\n",
       "  </thead>\n",
       "  <tbody>\n",
       "    <tr>\n",
       "      <th>0</th>\n",
       "      <td>Hawaii</td>\n",
       "      <td>Kauai</td>\n",
       "      <td>10000</td>\n",
       "      <td>5649.0</td>\n",
       "      <td>27.500</td>\n",
       "      <td>2</td>\n",
       "    </tr>\n",
       "    <tr>\n",
       "      <th>1</th>\n",
       "      <td>Maryland</td>\n",
       "      <td>Howard</td>\n",
       "      <td>270000</td>\n",
       "      <td>-48.0</td>\n",
       "      <td>52.800</td>\n",
       "      <td>58</td>\n",
       "    </tr>\n",
       "    <tr>\n",
       "      <th>2</th>\n",
       "      <td>New York</td>\n",
       "      <td>Orange</td>\n",
       "      <td>6729</td>\n",
       "      <td>-99.0</td>\n",
       "      <td>53.250</td>\n",
       "      <td>64</td>\n",
       "    </tr>\n",
       "    <tr>\n",
       "      <th>3</th>\n",
       "      <td>Oregon</td>\n",
       "      <td>Deschutes</td>\n",
       "      <td>92850</td>\n",
       "      <td>-100.0</td>\n",
       "      <td>15.333</td>\n",
       "      <td>0</td>\n",
       "    </tr>\n",
       "    <tr>\n",
       "      <th>4</th>\n",
       "      <td>Oregon</td>\n",
       "      <td>Jackson</td>\n",
       "      <td>133708</td>\n",
       "      <td>-70.0</td>\n",
       "      <td>20.333</td>\n",
       "      <td>0</td>\n",
       "    </tr>\n",
       "    <tr>\n",
       "      <th>...</th>\n",
       "      <td>...</td>\n",
       "      <td>...</td>\n",
       "      <td>...</td>\n",
       "      <td>...</td>\n",
       "      <td>...</td>\n",
       "      <td>...</td>\n",
       "    </tr>\n",
       "    <tr>\n",
       "      <th>841</th>\n",
       "      <td>Montana</td>\n",
       "      <td>Lewis And Clark</td>\n",
       "      <td>37125</td>\n",
       "      <td>192.0</td>\n",
       "      <td>59.333</td>\n",
       "      <td>60</td>\n",
       "    </tr>\n",
       "    <tr>\n",
       "      <th>842</th>\n",
       "      <td>Oregon</td>\n",
       "      <td>Josephine</td>\n",
       "      <td>37725</td>\n",
       "      <td>-100.0</td>\n",
       "      <td>11.000</td>\n",
       "      <td>0</td>\n",
       "    </tr>\n",
       "    <tr>\n",
       "      <th>843</th>\n",
       "      <td>West Virginia</td>\n",
       "      <td>Taylor</td>\n",
       "      <td>6071</td>\n",
       "      <td>-95.0</td>\n",
       "      <td>83.818</td>\n",
       "      <td>84</td>\n",
       "    </tr>\n",
       "    <tr>\n",
       "      <th>844</th>\n",
       "      <td>California</td>\n",
       "      <td>San Bernardino</td>\n",
       "      <td>890000</td>\n",
       "      <td>-23.0</td>\n",
       "      <td>78.000</td>\n",
       "      <td>78</td>\n",
       "    </tr>\n",
       "    <tr>\n",
       "      <th>845</th>\n",
       "      <td>Texas</td>\n",
       "      <td>Dallas</td>\n",
       "      <td>186000</td>\n",
       "      <td>2.0</td>\n",
       "      <td>94.500</td>\n",
       "      <td>95</td>\n",
       "    </tr>\n",
       "  </tbody>\n",
       "</table>\n",
       "<p>846 rows × 6 columns</p>\n",
       "</div>"
      ],
      "text/plain": [
       "             state     county names  population_served  15dy percent change  \\\n",
       "0           Hawaii            Kauai              10000               5649.0   \n",
       "1         Maryland           Howard             270000                -48.0   \n",
       "2         New York           Orange               6729                -99.0   \n",
       "3           Oregon        Deschutes              92850               -100.0   \n",
       "4           Oregon          Jackson             133708                -70.0   \n",
       "..             ...              ...                ...                  ...   \n",
       "841        Montana  Lewis And Clark              37125                192.0   \n",
       "842         Oregon        Josephine              37725               -100.0   \n",
       "843  West Virginia           Taylor               6071                -95.0   \n",
       "844     California   San Bernardino             890000                -23.0   \n",
       "845          Texas           Dallas             186000                  2.0   \n",
       "\n",
       "     percentile  current percentile levels   \n",
       "0        27.500                           2  \n",
       "1        52.800                          58  \n",
       "2        53.250                          64  \n",
       "3        15.333                           0  \n",
       "4        20.333                           0  \n",
       "..          ...                         ...  \n",
       "841      59.333                          60  \n",
       "842      11.000                           0  \n",
       "843      83.818                          84  \n",
       "844      78.000                          78  \n",
       "845      94.500                          95  \n",
       "\n",
       "[846 rows x 6 columns]"
      ]
     },
     "execution_count": 28,
     "metadata": {},
     "output_type": "execute_result"
    }
   ],
   "source": [
    "sub"
   ]
  },
  {
   "cell_type": "code",
   "execution_count": 29,
   "id": "9735123d",
   "metadata": {},
   "outputs": [
    {
     "data": {
      "image/png": "[encoded data removed]",
      "text/plain": [
       "<Figure size 720x720 with 2 Axes>"
      ]
     },
     "metadata": {
      "needs_background": "light"
     },
     "output_type": "display_data"
    }
   ],
   "source": [
    "# Create a subplot with matplotlib\n",
    "f,ax = plt.subplots(figsize=(10,10))\n",
    "\n",
    "# Create the correlation heatmap in seaborn by applying a heatmap onto the correlation matrix and the subplots defined above.\n",
    "corr = sns.heatmap(sub.corr(), annot = True, ax = ax) # The `annot` argument allows the plot to \n",
    "#place the correlation coefficients onto the heatmap."
   ]
  },
  {
   "cell_type": "markdown",
   "id": "f4e5c424",
   "metadata": {},
   "source": [
    "### Scatterplots"
   ]
  },
  {
   "cell_type": "code",
   "execution_count": 30,
   "id": "82d899f5",
   "metadata": {
    "scrolled": true
   },
   "outputs": [
    {
     "data": {
      "text/plain": [
       "<seaborn.axisgrid.FacetGrid at 0x7fc3f4829460>"
      ]
     },
     "execution_count": 30,
     "metadata": {},
     "output_type": "execute_result"
    },
    {
     "data": {
      "image/png": "[encoded data removed]",
      "text/plain": [
       "<Figure size 360x360 with 1 Axes>"
      ]
     },
     "metadata": {
      "needs_background": "light"
     },
     "output_type": "display_data"
    }
   ],
   "source": [
    "# Create a scatterplot for the \"percentile\" and \"Current virus levels in wastewater by site (in %)\" columns in seaborn\n",
    "\n",
    "sns.lmplot(x = 'percentile', y = 'current percentile levels ', data = df)"
   ]
  },
  {
   "cell_type": "markdown",
   "id": "c06c15f2",
   "metadata": {},
   "source": [
    "### Pair plots"
   ]
  },
  {
   "cell_type": "code",
   "execution_count": 31,
   "id": "854e1ac1",
   "metadata": {},
   "outputs": [],
   "source": [
    "# Keep only the variables you want to use in the pair plot\n",
    "sub_2 = sub[['percentile', '15dy percent change', 'current percentile levels ']]"
   ]
  },
  {
   "cell_type": "code",
   "execution_count": null,
   "id": "432a809f",
   "metadata": {},
   "outputs": [],
   "source": [
    "# Create a pair plot \n",
    "g = sns.pairplot(sub_2)"
   ]
  },
  {
   "cell_type": "markdown",
   "id": "ac2ef94b",
   "metadata": {},
   "source": [
    "### Categorical Plots "
   ]
  },
  {
   "cell_type": "markdown",
   "id": "151086f7",
   "metadata": {},
   "source": [
    "Creating a categorical variable that splits the \"15dy percent change\" column into categories"
   ]
  },
  {
   "cell_type": "code",
   "execution_count": null,
   "id": "ac203958",
   "metadata": {},
   "outputs": [],
   "source": [
    "sns.histplot(df['15dy percent change'], bins = 20, kde = True)"
   ]
  },
  {
   "cell_type": "code",
   "execution_count": null,
   "id": "ce2cb275",
   "metadata": {},
   "outputs": [],
   "source": [
    "df.loc[df['15dy percent change'] < -100, 'Percent change category'] = 'Large decrease'"
   ]
  },
  {
   "cell_type": "code",
   "execution_count": null,
   "id": "2d0acd4a",
   "metadata": {},
   "outputs": [],
   "source": [
    "df.loc[(df['15dy percent change'] >= -99) & (df['15dy percent change'] < -10), 'Percent change category'] = 'Decrease'\n"
   ]
  },
  {
   "cell_type": "code",
   "execution_count": null,
   "id": "c663a9e5",
   "metadata": {},
   "outputs": [],
   "source": [
    "df.loc[(df['15dy percent change'] >= -9) & (df['15dy percent change'] < 9), 'Percent change category'] = 'Stable'\n"
   ]
  },
  {
   "cell_type": "code",
   "execution_count": null,
   "id": "d5421097",
   "metadata": {},
   "outputs": [],
   "source": [
    "df.loc[(df['15dy percent change'] >= 10) & (df['15dy percent change'] < 99), 'Percent change category'] = 'Increase'"
   ]
  },
  {
   "cell_type": "code",
   "execution_count": null,
   "id": "446f7bb5",
   "metadata": {},
   "outputs": [],
   "source": [
    "df.loc[df['15dy percent change'] < 100, 'Percent change category'] = 'Large increase'"
   ]
  },
  {
   "cell_type": "code",
   "execution_count": null,
   "id": "3a80e2ba",
   "metadata": {},
   "outputs": [],
   "source": [
    "df['Percent change category'].value_counts(dropna = False)"
   ]
  },
  {
   "cell_type": "code",
   "execution_count": null,
   "id": "ee766e26",
   "metadata": {},
   "outputs": [],
   "source": [
    "df.columns"
   ]
  },
  {
   "cell_type": "code",
   "execution_count": null,
   "id": "b18b1955",
   "metadata": {},
   "outputs": [],
   "source": [
    "#Create a categorical plot in seaborn using the percent change categories created above\n",
    "sns.set(style=\"ticks\")\n",
    "g = sns.catplot(x=\"percentile\", y=\"15dy percent change\", hue=\"Percent change category\", data=df)"
   ]
  },
  {
   "cell_type": "code",
   "execution_count": null,
   "id": "ba6aef06",
   "metadata": {},
   "outputs": [],
   "source": [
    "#fig = g.get_figure()\n",
    "g.savefig(\"out.png\")"
   ]
  },
  {
   "cell_type": "code",
   "execution_count": null,
   "id": "46ef9687",
   "metadata": {},
   "outputs": [],
   "source": []
  }
 ],
 "metadata": {
  "kernelspec": {
   "display_name": "Python 3 (ipykernel)",
   "language": "python",
   "name": "python3"
  },
  "language_info": {
   "codemirror_mode": {
    "name": "ipython",
    "version": 3
   },
   "file_extension": ".py",
   "mimetype": "text/x-python",
   "name": "python",
   "nbconvert_exporter": "python",
   "pygments_lexer": "ipython3",
   "version": "3.9.12"
  }
 },
 "nbformat": 4,
 "nbformat_minor": 5
}
