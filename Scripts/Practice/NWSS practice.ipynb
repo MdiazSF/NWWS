{
 "cells": [
  {
   "cell_type": "markdown",
   "id": "fa525359",
   "metadata": {},
   "source": [
    "#Importing Libraries"
   ]
  },
  {
   "cell_type": "code",
   "execution_count": 1,
   "id": "39638b3d",
   "metadata": {},
   "outputs": [],
   "source": [
    "import pandas as pd\n",
    "import numpy as np\n",
    "import os"
   ]
  },
  {
   "cell_type": "code",
   "execution_count": 2,
   "id": "49595e38",
   "metadata": {},
   "outputs": [],
   "source": [
    "path = r'/Users/mdiaz/Desktop/NWWS data/Data/Original/12.27.22 Wastewater_Metric_Data.csv' "
   ]
  },
  {
   "cell_type": "code",
   "execution_count": 3,
   "id": "0de10a28",
   "metadata": {},
   "outputs": [
    {
     "data": {
      "text/plain": [
       "'/Users/mdiaz/Desktop/NWWS data/Data/Original/12.27.22 Wastewater_Metric_Data.csv'"
      ]
     },
     "execution_count": 3,
     "metadata": {},
     "output_type": "execute_result"
    }
   ],
   "source": [
    "path"
   ]
  },
  {
   "cell_type": "code",
   "execution_count": 4,
   "id": "998cbdd4",
   "metadata": {},
   "outputs": [],
   "source": [
    "df = pd.read_csv(os.path.join(path, 'NWWS data', 'Data','Original','/Users/mdiaz/Desktop/NWWS data/Data/Original/12.27.22 Wastewater_Metric_Data.csv' ))"
   ]
  },
  {
   "cell_type": "markdown",
   "id": "683b9d8e",
   "metadata": {},
   "source": [
    "#Exploring data"
   ]
  },
  {
   "cell_type": "code",
   "execution_count": 5,
   "id": "6e1da5f4",
   "metadata": {},
   "outputs": [
    {
     "data": {
      "text/plain": [
       "(1334, 16)"
      ]
     },
     "execution_count": 5,
     "metadata": {},
     "output_type": "execute_result"
    }
   ],
   "source": [
    "df.shape"
   ]
  },
  {
   "cell_type": "code",
   "execution_count": 7,
   "id": "773aebdc",
   "metadata": {},
   "outputs": [
    {
     "data": {
      "text/plain": [
       "<bound method DataFrame.info of      wwtp_jurisdiction  wwtp_id reporting_jurisdiction  sample_location  \\\n",
       "0               Hawaii      710                 Hawaii  Treatment plant   \n",
       "1             Maryland      547               Maryland  Treatment plant   \n",
       "2             New York      426               New York  Treatment plant   \n",
       "3               Oregon      932                 Oregon  Treatment plant   \n",
       "4               Oregon      956                 Oregon  Treatment plant   \n",
       "...                ...      ...                    ...              ...   \n",
       "1329           Montana      977                Montana  Treatment plant   \n",
       "1330            Oregon      950                 Oregon  Treatment plant   \n",
       "1331     West Virginia      735          West Virginia  Treatment plant   \n",
       "1332        California     1709             California  Treatment plant   \n",
       "1333             Texas     1683                  Texas  Treatment plant   \n",
       "\n",
       "      sample_location_specify  \\\n",
       "0                         NaN   \n",
       "1                         NaN   \n",
       "2                         NaN   \n",
       "3                         NaN   \n",
       "4                         NaN   \n",
       "...                       ...   \n",
       "1329                      NaN   \n",
       "1330                      NaN   \n",
       "1331                      NaN   \n",
       "1332                      NaN   \n",
       "1333                      NaN   \n",
       "\n",
       "                                           key_plot_id     county_names  \\\n",
       "0     CDC_BIOBOT_hi_710_Treatment plant_raw wastewater            Kauai   \n",
       "1     CDC_BIOBOT_md_547_Treatment plant_raw wastewater           Howard   \n",
       "2           NWSS_ny_426_Treatment plant_raw wastewater           Orange   \n",
       "3           NWSS_or_932_Treatment plant_raw wastewater        Deschutes   \n",
       "4           NWSS_or_956_Treatment plant_raw wastewater          Jackson   \n",
       "...                                                ...              ...   \n",
       "1329        NWSS_mt_977_Treatment plant_raw wastewater  Lewis And Clark   \n",
       "1330        NWSS_or_950_Treatment plant_raw wastewater        Josephine   \n",
       "1331        NWSS_wv_735_Treatment plant_raw wastewater           Taylor   \n",
       "1332        WWS_ca_1709_Treatment plant_primary sludge   San Bernardino   \n",
       "1333        WWS_tx_1683_Treatment plant_primary sludge           Dallas   \n",
       "\n",
       "     county_fips  population_served  date_start    date_end  ptc_15d  \\\n",
       "0          15007              10000  2022-12-27  2023-01-10   5649.0   \n",
       "1          24027             270000  2022-12-27  2023-01-10    -48.0   \n",
       "2          36071               6729  2022-12-27  2023-01-10    -99.0   \n",
       "3          41017              92850  2022-12-27  2023-01-10   -100.0   \n",
       "4          41029             133708  2022-12-27  2023-01-10    -70.0   \n",
       "...          ...                ...         ...         ...      ...   \n",
       "1329       30049              37125  2022-12-27  2023-01-10    192.0   \n",
       "1330       41033              37725  2022-12-27  2023-01-10   -100.0   \n",
       "1331       54091               6071  2022-12-27  2023-01-10    -95.0   \n",
       "1332       06071             890000  2022-12-27  2023-01-10    -23.0   \n",
       "1333       48113             186000  2022-12-27  2023-01-10      2.0   \n",
       "\n",
       "      detect_prop_15d  percentile sampling_prior first_sample_date  \n",
       "0               100.0      27.500             no        2022-05-03  \n",
       "1               100.0      52.800             no        2022-11-28  \n",
       "2                75.0      53.250            yes        2022-01-04  \n",
       "3               100.0      15.333            yes        2020-09-04  \n",
       "4               100.0      20.333            yes        2020-10-01  \n",
       "...               ...         ...            ...               ...  \n",
       "1329            100.0      59.333            yes        2020-08-10  \n",
       "1330             50.0      11.000            yes        2020-12-21  \n",
       "1331            100.0      83.818             no        2022-02-10  \n",
       "1332            100.0      78.000             no        2022-04-25  \n",
       "1333            100.0      94.500             no        2022-02-27  \n",
       "\n",
       "[1334 rows x 16 columns]>"
      ]
     },
     "execution_count": 7,
     "metadata": {},
     "output_type": "execute_result"
    }
   ],
   "source": [
    "df.info"
   ]
  },
  {
   "cell_type": "code",
   "execution_count": 8,
   "id": "9c246227",
   "metadata": {},
   "outputs": [
    {
     "data": {
      "text/plain": [
       "Index(['wwtp_jurisdiction', 'wwtp_id', 'reporting_jurisdiction',\n",
       "       'sample_location', 'sample_location_specify', 'key_plot_id',\n",
       "       'county_names', 'county_fips', 'population_served', 'date_start',\n",
       "       'date_end', 'ptc_15d', 'detect_prop_15d', 'percentile',\n",
       "       'sampling_prior', 'first_sample_date'],\n",
       "      dtype='object')"
      ]
     },
     "execution_count": 8,
     "metadata": {},
     "output_type": "execute_result"
    }
   ],
   "source": [
    "df.columns"
   ]
  },
  {
   "cell_type": "markdown",
   "id": "c90c638e",
   "metadata": {},
   "source": [
    "#Import data without unecessary columns"
   ]
  },
  {
   "cell_type": "code",
   "execution_count": 11,
   "id": "32762c75",
   "metadata": {},
   "outputs": [],
   "source": [
    "vars_list = ['wwtp_jurisdiction', 'wwtp_id', 'county_names', 'population_served', 'date_start', 'ptc_15d', 'percentile'] "
   ]
  },
  {
   "cell_type": "code",
   "execution_count": 13,
   "id": "6c00c2ca",
   "metadata": {},
   "outputs": [
    {
     "data": {
      "text/plain": [
       "['wwtp_jurisdiction',\n",
       " 'wwtp_id',\n",
       " 'county_names',\n",
       " 'population_served',\n",
       " 'date_start',\n",
       " 'ptc_15d',\n",
       " 'percentile']"
      ]
     },
     "execution_count": 13,
     "metadata": {},
     "output_type": "execute_result"
    }
   ],
   "source": [
    "vars_list"
   ]
  },
  {
   "cell_type": "code",
   "execution_count": 16,
   "id": "2c48e569",
   "metadata": {},
   "outputs": [],
   "source": [
    "df = pd.read_csv(os.path.join(path, 'NWWS data', 'Data','Original','/Users/mdiaz/Desktop/NWWS data/Data/Original/12.27.22 Wastewater_Metric_Data.csv'), usecols = vars_list)"
   ]
  },
  {
   "cell_type": "code",
   "execution_count": 18,
   "id": "524ddcbe",
   "metadata": {},
   "outputs": [
    {
     "data": {
      "text/plain": [
       "Index(['wwtp_jurisdiction', 'wwtp_id', 'county_names', 'population_served',\n",
       "       'date_start', 'ptc_15d', 'percentile'],\n",
       "      dtype='object')"
      ]
     },
     "execution_count": 18,
     "metadata": {},
     "output_type": "execute_result"
    }
   ],
   "source": [
    "df.columns"
   ]
  },
  {
   "cell_type": "code",
   "execution_count": null,
   "id": "aee3fc06",
   "metadata": {},
   "outputs": [],
   "source": []
  }
 ],
 "metadata": {
  "kernelspec": {
   "display_name": "Python 3 (ipykernel)",
   "language": "python",
   "name": "python3"
  },
  "language_info": {
   "codemirror_mode": {
    "name": "ipython",
    "version": 3
   },
   "file_extension": ".py",
   "mimetype": "text/x-python",
   "name": "python",
   "nbconvert_exporter": "python",
   "pygments_lexer": "ipython3",
   "version": "3.9.12"
  }
 },
 "nbformat": 4,
 "nbformat_minor": 5
}
