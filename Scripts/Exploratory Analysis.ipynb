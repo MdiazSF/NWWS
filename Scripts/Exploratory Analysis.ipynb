{
 "cells": [
  {
   "cell_type": "markdown",
   "id": "49cc54ec",
   "metadata": {},
   "source": [
    "# 1. Importing libraries"
   ]
  },
  {
   "cell_type": "code",
   "execution_count": 49,
   "id": "beb1563e",
   "metadata": {},
   "outputs": [],
   "source": [
    "import pandas as pd\n",
    "import numpy as np\n",
    "import seaborn as sns\n",
    "import matplotlib.pyplot as plt\n",
    "import matplotlib\n",
    "import os"
   ]
  },
  {
   "cell_type": "code",
   "execution_count": 50,
   "id": "2a925efa",
   "metadata": {},
   "outputs": [
    {
     "data": {
      "text/plain": [
       "'3.5.1'"
      ]
     },
     "execution_count": 50,
     "metadata": {},
     "output_type": "execute_result"
    }
   ],
   "source": [
    "#Checking for matplotlib version\n",
    "matplotlib.__version__"
   ]
  },
  {
   "cell_type": "code",
   "execution_count": 51,
   "id": "539a0594",
   "metadata": {},
   "outputs": [],
   "source": [
    "# Ensure the charts are displayed in the notebook without the need to \"call\" them specifically.\n",
    "%matplotlib inline"
   ]
  },
  {
   "cell_type": "code",
   "execution_count": 52,
   "id": "2011fae1",
   "metadata": {},
   "outputs": [],
   "source": [
    "# Defining path\n",
    "path = '/Users/mdiaz/Desktop/NWWS data/Data'"
   ]
  },
  {
   "cell_type": "code",
   "execution_count": 53,
   "id": "ff8e48cb",
   "metadata": {},
   "outputs": [
    {
     "data": {
      "text/plain": [
       "'/Users/mdiaz/Desktop/NWWS data/Data'"
      ]
     },
     "execution_count": 53,
     "metadata": {},
     "output_type": "execute_result"
    }
   ],
   "source": [
    "path"
   ]
  },
  {
   "cell_type": "code",
   "execution_count": 54,
   "id": "f8cebaaf",
   "metadata": {},
   "outputs": [],
   "source": [
    "# Import data\n",
    "df = pd.read_csv(os.path.join(path, 'Prepared', 'Clean NWWS.csv'))"
   ]
  },
  {
   "cell_type": "code",
   "execution_count": 55,
   "id": "4fe952ab",
   "metadata": {},
   "outputs": [
    {
     "data": {
      "text/html": [
       "<div>\n",
       "<style scoped>\n",
       "    .dataframe tbody tr th:only-of-type {\n",
       "        vertical-align: middle;\n",
       "    }\n",
       "\n",
       "    .dataframe tbody tr th {\n",
       "        vertical-align: top;\n",
       "    }\n",
       "\n",
       "    .dataframe thead th {\n",
       "        text-align: right;\n",
       "    }\n",
       "</style>\n",
       "<table border=\"1\" class=\"dataframe\">\n",
       "  <thead>\n",
       "    <tr style=\"text-align: right;\">\n",
       "      <th></th>\n",
       "      <th>state</th>\n",
       "      <th>id</th>\n",
       "      <th>county names</th>\n",
       "      <th>population_served</th>\n",
       "      <th>collection date</th>\n",
       "      <th>15dy percent change</th>\n",
       "      <th>percentile</th>\n",
       "      <th>current percentile levels</th>\n",
       "    </tr>\n",
       "  </thead>\n",
       "  <tbody>\n",
       "    <tr>\n",
       "      <th>0</th>\n",
       "      <td>Hawaii</td>\n",
       "      <td>710</td>\n",
       "      <td>Kauai</td>\n",
       "      <td>10000</td>\n",
       "      <td>2022-12-27</td>\n",
       "      <td>5649.0</td>\n",
       "      <td>28</td>\n",
       "      <td>2</td>\n",
       "    </tr>\n",
       "    <tr>\n",
       "      <th>1</th>\n",
       "      <td>Maryland</td>\n",
       "      <td>547</td>\n",
       "      <td>Howard</td>\n",
       "      <td>270000</td>\n",
       "      <td>2022-12-27</td>\n",
       "      <td>-48.0</td>\n",
       "      <td>53</td>\n",
       "      <td>58</td>\n",
       "    </tr>\n",
       "    <tr>\n",
       "      <th>2</th>\n",
       "      <td>New York</td>\n",
       "      <td>426</td>\n",
       "      <td>Orange</td>\n",
       "      <td>6729</td>\n",
       "      <td>2022-12-27</td>\n",
       "      <td>-99.0</td>\n",
       "      <td>53</td>\n",
       "      <td>64</td>\n",
       "    </tr>\n",
       "    <tr>\n",
       "      <th>3</th>\n",
       "      <td>Oregon</td>\n",
       "      <td>932</td>\n",
       "      <td>Deschutes</td>\n",
       "      <td>92850</td>\n",
       "      <td>2022-12-27</td>\n",
       "      <td>-100.0</td>\n",
       "      <td>15</td>\n",
       "      <td>0</td>\n",
       "    </tr>\n",
       "    <tr>\n",
       "      <th>4</th>\n",
       "      <td>Oregon</td>\n",
       "      <td>956</td>\n",
       "      <td>Jackson</td>\n",
       "      <td>133708</td>\n",
       "      <td>2022-12-27</td>\n",
       "      <td>-70.0</td>\n",
       "      <td>20</td>\n",
       "      <td>0</td>\n",
       "    </tr>\n",
       "  </tbody>\n",
       "</table>\n",
       "</div>"
      ],
      "text/plain": [
       "      state   id county names  population_served collection date  \\\n",
       "0    Hawaii  710        Kauai              10000      2022-12-27   \n",
       "1  Maryland  547       Howard             270000      2022-12-27   \n",
       "2  New York  426       Orange               6729      2022-12-27   \n",
       "3    Oregon  932    Deschutes              92850      2022-12-27   \n",
       "4    Oregon  956      Jackson             133708      2022-12-27   \n",
       "\n",
       "   15dy percent change  percentile  current percentile levels   \n",
       "0               5649.0          28                           2  \n",
       "1                -48.0          53                          58  \n",
       "2                -99.0          53                          64  \n",
       "3               -100.0          15                           0  \n",
       "4                -70.0          20                           0  "
      ]
     },
     "execution_count": 55,
     "metadata": {},
     "output_type": "execute_result"
    }
   ],
   "source": [
    "# Data check \n",
    "df.head()"
   ]
  },
  {
   "cell_type": "markdown",
   "id": "3ec8c382",
   "metadata": {},
   "source": [
    "# 2. Data consistency check"
   ]
  },
  {
   "cell_type": "code",
   "execution_count": 56,
   "id": "e3bbdaec",
   "metadata": {},
   "outputs": [
    {
     "data": {
      "text/plain": [
       "state                          object\n",
       "id                              int64\n",
       "county names                   object\n",
       "population_served               int64\n",
       "collection date                object\n",
       "15dy percent change           float64\n",
       "percentile                      int64\n",
       "current percentile levels       int64\n",
       "dtype: object"
      ]
     },
     "execution_count": 56,
     "metadata": {},
     "output_type": "execute_result"
    }
   ],
   "source": [
    "# Types\n",
    "df.dtypes"
   ]
  },
  {
   "cell_type": "code",
   "execution_count": 57,
   "id": "0a93cee9",
   "metadata": {},
   "outputs": [
    {
     "data": {
      "text/plain": [
       "state                         0\n",
       "id                            0\n",
       "county names                  0\n",
       "population_served             0\n",
       "collection date               0\n",
       "15dy percent change           0\n",
       "percentile                    0\n",
       "current percentile levels     0\n",
       "dtype: int64"
      ]
     },
     "execution_count": 57,
     "metadata": {},
     "output_type": "execute_result"
    }
   ],
   "source": [
    "# Check for missing values\n",
    "df.isnull().sum() # No missing values!"
   ]
  },
  {
   "cell_type": "code",
   "execution_count": 58,
   "id": "cb4a5ae8",
   "metadata": {},
   "outputs": [],
   "source": [
    "# Locate duplicates\n",
    "df_dups = df[df.duplicated()]"
   ]
  },
  {
   "cell_type": "code",
   "execution_count": 59,
   "id": "da8be545",
   "metadata": {},
   "outputs": [
    {
     "data": {
      "text/plain": [
       "(1, 8)"
      ]
     },
     "execution_count": 59,
     "metadata": {},
     "output_type": "execute_result"
    }
   ],
   "source": [
    "df_dups.shape # No duplicates"
   ]
  },
  {
   "cell_type": "code",
   "execution_count": 60,
   "id": "b726c317",
   "metadata": {},
   "outputs": [],
   "source": [
    "#Mixed data types\n",
    "for col in df.columns.tolist():\n",
    "      weird = (df[[col]].applymap(type) != df[[col]].iloc[0].apply(type)).any(axis = 1)\n",
    "      if len (df[weird]) > 0:\n",
    "        print (col)"
   ]
  },
  {
   "cell_type": "markdown",
   "id": "b9d44b9e",
   "metadata": {},
   "source": [
    "During the cleaning process in the 1st data script, there were mixed data types for '15dy percentile change and 'percentile' columns with Nan or New Site, which were placeholders for sites that did not submit the test results or new. "
   ]
  },
  {
   "cell_type": "markdown",
   "id": "2884e85a",
   "metadata": {},
   "source": [
    "# 3. Exploring relationships"
   ]
  },
  {
   "cell_type": "markdown",
   "id": "322af1e0",
   "metadata": {},
   "source": [
    "### Correlations"
   ]
  },
  {
   "cell_type": "code",
   "execution_count": 61,
   "id": "6db93029",
   "metadata": {},
   "outputs": [
    {
     "data": {
      "text/html": [
       "<div>\n",
       "<style scoped>\n",
       "    .dataframe tbody tr th:only-of-type {\n",
       "        vertical-align: middle;\n",
       "    }\n",
       "\n",
       "    .dataframe tbody tr th {\n",
       "        vertical-align: top;\n",
       "    }\n",
       "\n",
       "    .dataframe thead th {\n",
       "        text-align: right;\n",
       "    }\n",
       "</style>\n",
       "<table border=\"1\" class=\"dataframe\">\n",
       "  <thead>\n",
       "    <tr style=\"text-align: right;\">\n",
       "      <th></th>\n",
       "      <th>id</th>\n",
       "      <th>population_served</th>\n",
       "      <th>15dy percent change</th>\n",
       "      <th>percentile</th>\n",
       "      <th>current percentile levels</th>\n",
       "    </tr>\n",
       "  </thead>\n",
       "  <tbody>\n",
       "    <tr>\n",
       "      <th>id</th>\n",
       "      <td>1.000000</td>\n",
       "      <td>0.002069</td>\n",
       "      <td>0.001397</td>\n",
       "      <td>0.216999</td>\n",
       "      <td>-0.184091</td>\n",
       "    </tr>\n",
       "    <tr>\n",
       "      <th>population_served</th>\n",
       "      <td>0.002069</td>\n",
       "      <td>1.000000</td>\n",
       "      <td>-0.018965</td>\n",
       "      <td>0.007297</td>\n",
       "      <td>0.097371</td>\n",
       "    </tr>\n",
       "    <tr>\n",
       "      <th>15dy percent change</th>\n",
       "      <td>0.001397</td>\n",
       "      <td>-0.018965</td>\n",
       "      <td>1.000000</td>\n",
       "      <td>-0.021210</td>\n",
       "      <td>-0.068637</td>\n",
       "    </tr>\n",
       "    <tr>\n",
       "      <th>percentile</th>\n",
       "      <td>0.216999</td>\n",
       "      <td>0.007297</td>\n",
       "      <td>-0.021210</td>\n",
       "      <td>1.000000</td>\n",
       "      <td>-0.277889</td>\n",
       "    </tr>\n",
       "    <tr>\n",
       "      <th>current percentile levels</th>\n",
       "      <td>-0.184091</td>\n",
       "      <td>0.097371</td>\n",
       "      <td>-0.068637</td>\n",
       "      <td>-0.277889</td>\n",
       "      <td>1.000000</td>\n",
       "    </tr>\n",
       "  </tbody>\n",
       "</table>\n",
       "</div>"
      ],
      "text/plain": [
       "                                  id  population_served  15dy percent change  \\\n",
       "id                          1.000000           0.002069             0.001397   \n",
       "population_served           0.002069           1.000000            -0.018965   \n",
       "15dy percent change         0.001397          -0.018965             1.000000   \n",
       "percentile                  0.216999           0.007297            -0.021210   \n",
       "current percentile levels  -0.184091           0.097371            -0.068637   \n",
       "\n",
       "                            percentile  current percentile levels   \n",
       "id                            0.216999                   -0.184091  \n",
       "population_served             0.007297                    0.097371  \n",
       "15dy percent change          -0.021210                   -0.068637  \n",
       "percentile                    1.000000                   -0.277889  \n",
       "current percentile levels    -0.277889                    1.000000  "
      ]
     },
     "execution_count": 61,
     "metadata": {},
     "output_type": "execute_result"
    }
   ],
   "source": [
    "# Create a correlation matrix using pandas\n",
    "df.corr()"
   ]
  },
  {
   "cell_type": "code",
   "execution_count": 62,
   "id": "111568b4",
   "metadata": {},
   "outputs": [
    {
     "data": {
      "image/png": "[encoded data removed]",
      "text/plain": [
       "<Figure size 288x288 with 1 Axes>"
      ]
     },
     "metadata": {
      "needs_background": "light"
     },
     "output_type": "display_data"
    }
   ],
   "source": [
    "# Create a correlation heatmap using matplotlib\n",
    "plt.matshow(df.corr())\n",
    "plt.show()"
   ]
  },
  {
   "cell_type": "code",
   "execution_count": 63,
   "id": "1c0278a1",
   "metadata": {},
   "outputs": [
    {
     "data": {
      "image/png": "[encoded data removed]",
      "text/plain": [
       "<Figure size 288x288 with 1 Axes>"
      ]
     },
     "metadata": {
      "needs_background": "light"
     },
     "output_type": "display_data"
    }
   ],
   "source": [
    "# Save visual to working directory\n",
    "plt.matshow(df.corr())\n",
    "plt.savefig(\"out.png\")"
   ]
  },
  {
   "cell_type": "code",
   "execution_count": 64,
   "id": "041f7b8d",
   "metadata": {},
   "outputs": [
    {
     "data": {
      "text/plain": [
       "'/Users/mdiaz/Desktop/NWWS data/Data/Scripts'"
      ]
     },
     "execution_count": 64,
     "metadata": {},
     "output_type": "execute_result"
    }
   ],
   "source": [
    "#check current directory\n",
    "cwd = os.getcwd()\n",
    "cwd"
   ]
  },
  {
   "cell_type": "code",
   "execution_count": 65,
   "id": "a1e2332f",
   "metadata": {},
   "outputs": [
    {
     "data": {
      "text/plain": [
       "Text(0.5, 1.0, 'Correlation Matrix')"
      ]
     },
     "execution_count": 65,
     "metadata": {},
     "output_type": "execute_result"
    },
    {
     "data": {
      "image/png": "[encoded data removed]",
      "text/plain": [
       "<Figure size 576x576 with 2 Axes>"
      ]
     },
     "metadata": {
      "needs_background": "light"
     },
     "output_type": "display_data"
    }
   ],
   "source": [
    "# Add labels, a legend, and change the size of the heatmap\n",
    "\n",
    "f = plt.figure(figsize=(8, 8)) # figure size \n",
    "plt.matshow(df.corr(), fignum=f.number) # type of plot\n",
    "plt.xticks(range(df.shape[1]), df.columns, fontsize=14, rotation=45) # x axis labels\n",
    "plt.yticks(range(df.shape[1]), df.columns, fontsize=14) # y axis labels\n",
    "cb = plt.colorbar() # add a colour legend (called colorbar)\n",
    "cb.ax.tick_params(labelsize=14) # add font size\n",
    "plt.title('Correlation Matrix', fontsize=14) # add title"
   ]
  },
  {
   "cell_type": "markdown",
   "id": "20aae63b",
   "metadata": {},
   "source": [
    "The coefficients in the plot mean that there are some strong relationships between 15dy percent change and current percentile levels."
   ]
  },
  {
   "cell_type": "markdown",
   "id": "34752262",
   "metadata": {},
   "source": [
    "### Creating correlations heatmaps with seaborn"
   ]
  },
  {
   "cell_type": "code",
   "execution_count": 66,
   "id": "2755f5de",
   "metadata": {},
   "outputs": [
    {
     "data": {
      "text/plain": [
       "Index(['state', 'id', 'county names', 'population_served', 'collection date',\n",
       "       '15dy percent change', 'percentile', 'current percentile levels '],\n",
       "      dtype='object')"
      ]
     },
     "execution_count": 66,
     "metadata": {},
     "output_type": "execute_result"
    }
   ],
   "source": [
    "df.columns"
   ]
  },
  {
   "cell_type": "code",
   "execution_count": 67,
   "id": "f467376d",
   "metadata": {},
   "outputs": [],
   "source": [
    "# Create a subset excluding the \"Date\" and \"Unnamed\" columns\n",
    "sub = df[['state', 'county names', 'population_served', '15dy percent change','percentile', 'current percentile levels ']]"
   ]
  },
  {
   "cell_type": "code",
   "execution_count": 68,
   "id": "92ba4338",
   "metadata": {},
   "outputs": [
    {
     "data": {
      "text/html": [
       "<div>\n",
       "<style scoped>\n",
       "    .dataframe tbody tr th:only-of-type {\n",
       "        vertical-align: middle;\n",
       "    }\n",
       "\n",
       "    .dataframe tbody tr th {\n",
       "        vertical-align: top;\n",
       "    }\n",
       "\n",
       "    .dataframe thead th {\n",
       "        text-align: right;\n",
       "    }\n",
       "</style>\n",
       "<table border=\"1\" class=\"dataframe\">\n",
       "  <thead>\n",
       "    <tr style=\"text-align: right;\">\n",
       "      <th></th>\n",
       "      <th>state</th>\n",
       "      <th>county names</th>\n",
       "      <th>population_served</th>\n",
       "      <th>15dy percent change</th>\n",
       "      <th>percentile</th>\n",
       "      <th>current percentile levels</th>\n",
       "    </tr>\n",
       "  </thead>\n",
       "  <tbody>\n",
       "    <tr>\n",
       "      <th>0</th>\n",
       "      <td>Hawaii</td>\n",
       "      <td>Kauai</td>\n",
       "      <td>10000</td>\n",
       "      <td>5649.0</td>\n",
       "      <td>28</td>\n",
       "      <td>2</td>\n",
       "    </tr>\n",
       "    <tr>\n",
       "      <th>1</th>\n",
       "      <td>Maryland</td>\n",
       "      <td>Howard</td>\n",
       "      <td>270000</td>\n",
       "      <td>-48.0</td>\n",
       "      <td>53</td>\n",
       "      <td>58</td>\n",
       "    </tr>\n",
       "    <tr>\n",
       "      <th>2</th>\n",
       "      <td>New York</td>\n",
       "      <td>Orange</td>\n",
       "      <td>6729</td>\n",
       "      <td>-99.0</td>\n",
       "      <td>53</td>\n",
       "      <td>64</td>\n",
       "    </tr>\n",
       "    <tr>\n",
       "      <th>3</th>\n",
       "      <td>Oregon</td>\n",
       "      <td>Deschutes</td>\n",
       "      <td>92850</td>\n",
       "      <td>-100.0</td>\n",
       "      <td>15</td>\n",
       "      <td>0</td>\n",
       "    </tr>\n",
       "    <tr>\n",
       "      <th>4</th>\n",
       "      <td>Oregon</td>\n",
       "      <td>Jackson</td>\n",
       "      <td>133708</td>\n",
       "      <td>-70.0</td>\n",
       "      <td>20</td>\n",
       "      <td>0</td>\n",
       "    </tr>\n",
       "    <tr>\n",
       "      <th>...</th>\n",
       "      <td>...</td>\n",
       "      <td>...</td>\n",
       "      <td>...</td>\n",
       "      <td>...</td>\n",
       "      <td>...</td>\n",
       "      <td>...</td>\n",
       "    </tr>\n",
       "    <tr>\n",
       "      <th>841</th>\n",
       "      <td>Montana</td>\n",
       "      <td>Lewis And Clark</td>\n",
       "      <td>37125</td>\n",
       "      <td>192.0</td>\n",
       "      <td>59</td>\n",
       "      <td>60</td>\n",
       "    </tr>\n",
       "    <tr>\n",
       "      <th>842</th>\n",
       "      <td>Oregon</td>\n",
       "      <td>Josephine</td>\n",
       "      <td>37725</td>\n",
       "      <td>-100.0</td>\n",
       "      <td>11</td>\n",
       "      <td>0</td>\n",
       "    </tr>\n",
       "    <tr>\n",
       "      <th>843</th>\n",
       "      <td>West Virginia</td>\n",
       "      <td>Taylor</td>\n",
       "      <td>6071</td>\n",
       "      <td>-95.0</td>\n",
       "      <td>84</td>\n",
       "      <td>84</td>\n",
       "    </tr>\n",
       "    <tr>\n",
       "      <th>844</th>\n",
       "      <td>California</td>\n",
       "      <td>San Bernardino</td>\n",
       "      <td>890000</td>\n",
       "      <td>-23.0</td>\n",
       "      <td>78</td>\n",
       "      <td>78</td>\n",
       "    </tr>\n",
       "    <tr>\n",
       "      <th>845</th>\n",
       "      <td>Texas</td>\n",
       "      <td>Dallas</td>\n",
       "      <td>186000</td>\n",
       "      <td>2.0</td>\n",
       "      <td>95</td>\n",
       "      <td>95</td>\n",
       "    </tr>\n",
       "  </tbody>\n",
       "</table>\n",
       "<p>846 rows × 6 columns</p>\n",
       "</div>"
      ],
      "text/plain": [
       "             state     county names  population_served  15dy percent change  \\\n",
       "0           Hawaii            Kauai              10000               5649.0   \n",
       "1         Maryland           Howard             270000                -48.0   \n",
       "2         New York           Orange               6729                -99.0   \n",
       "3           Oregon        Deschutes              92850               -100.0   \n",
       "4           Oregon          Jackson             133708                -70.0   \n",
       "..             ...              ...                ...                  ...   \n",
       "841        Montana  Lewis And Clark              37125                192.0   \n",
       "842         Oregon        Josephine              37725               -100.0   \n",
       "843  West Virginia           Taylor               6071                -95.0   \n",
       "844     California   San Bernardino             890000                -23.0   \n",
       "845          Texas           Dallas             186000                  2.0   \n",
       "\n",
       "     percentile  current percentile levels   \n",
       "0            28                           2  \n",
       "1            53                          58  \n",
       "2            53                          64  \n",
       "3            15                           0  \n",
       "4            20                           0  \n",
       "..          ...                         ...  \n",
       "841          59                          60  \n",
       "842          11                           0  \n",
       "843          84                          84  \n",
       "844          78                          78  \n",
       "845          95                          95  \n",
       "\n",
       "[846 rows x 6 columns]"
      ]
     },
     "execution_count": 68,
     "metadata": {},
     "output_type": "execute_result"
    }
   ],
   "source": [
    "sub"
   ]
  },
  {
   "cell_type": "code",
   "execution_count": 69,
   "id": "386e5ca4",
   "metadata": {},
   "outputs": [
    {
     "data": {
      "image/png": "[encoded data removed]",
      "text/plain": [
       "<Figure size 720x720 with 2 Axes>"
      ]
     },
     "metadata": {
      "needs_background": "light"
     },
     "output_type": "display_data"
    }
   ],
   "source": [
    "# Create a subplot with matplotlib\n",
    "f,ax = plt.subplots(figsize=(10,10))\n",
    "\n",
    "# Create the correlation heatmap in seaborn by applying a heatmap onto the correlation matrix and the subplots defined above.\n",
    "corr = sns.heatmap(sub.corr(), annot = True, ax = ax) # The `annot` argument allows the plot to \n",
    "#place the correlation coefficients onto the heatmap."
   ]
  },
  {
   "cell_type": "markdown",
   "id": "93fa4736",
   "metadata": {},
   "source": [
    "### Scatterplots"
   ]
  },
  {
   "cell_type": "code",
   "execution_count": 70,
   "id": "b748bdfb",
   "metadata": {},
   "outputs": [
    {
     "data": {
      "text/plain": [
       "<seaborn.axisgrid.FacetGrid at 0x7ff6b4748700>"
      ]
     },
     "execution_count": 70,
     "metadata": {},
     "output_type": "execute_result"
    },
    {
     "data": {
      "image/png": "[encoded data removed]",
      "text/plain": [
       "<Figure size 360x360 with 1 Axes>"
      ]
     },
     "metadata": {
      "needs_background": "light"
     },
     "output_type": "display_data"
    }
   ],
   "source": [
    "# Create a scatterplot for the \"percentile\" and \"Current virus levels in wastewater by site (in %)\" columns in seaborn\n",
    "sns.lmplot(x = 'percentile', y = 'current percentile levels ', data = df)"
   ]
  },
  {
   "cell_type": "markdown",
   "id": "5bdd6334",
   "metadata": {},
   "source": [
    "### Categorical Plots"
   ]
  },
  {
   "cell_type": "markdown",
   "id": "ffb4de7c",
   "metadata": {},
   "source": [
    "#Creating categorical variable that splits the \"percentile\" column into categories"
   ]
  },
  {
   "cell_type": "code",
   "execution_count": 71,
   "id": "a0ed47eb",
   "metadata": {},
   "outputs": [
    {
     "data": {
      "text/plain": [
       "<AxesSubplot:xlabel='percentile', ylabel='Count'>"
      ]
     },
     "execution_count": 71,
     "metadata": {},
     "output_type": "execute_result"
    },
    {
     "data": {
      "image/png": "[encoded data removed]",
      "text/plain": [
       "<Figure size 432x288 with 1 Axes>"
      ]
     },
     "metadata": {
      "needs_background": "light"
     },
     "output_type": "display_data"
    }
   ],
   "source": [
    "sns.histplot(df['percentile'], bins = 20, kde = True)"
   ]
  },
  {
   "cell_type": "code",
   "execution_count": 72,
   "id": "99810306",
   "metadata": {},
   "outputs": [],
   "source": [
    "df.loc[df['percentile'] < -100, 'Percent change category'] = 'Large decrease'"
   ]
  },
  {
   "cell_type": "code",
   "execution_count": 73,
   "id": "242035e4",
   "metadata": {},
   "outputs": [],
   "source": [
    "df.loc[(df['percentile'] >= -99) & (df['percentile'] < -10), 'Percent change category'] = 'Decrease'"
   ]
  },
  {
   "cell_type": "code",
   "execution_count": 74,
   "id": "774b9914",
   "metadata": {},
   "outputs": [],
   "source": [
    "df.loc[(df['percentile'] >= -9) & (df['percentile'] < 9), 'Percent change category'] = 'Stable'"
   ]
  },
  {
   "cell_type": "code",
   "execution_count": 75,
   "id": "94e2e9aa",
   "metadata": {},
   "outputs": [],
   "source": [
    "df.loc[(df['percentile'] >= 10) & (df['percentile'] < 99), 'Percent change category'] = 'Increase'"
   ]
  },
  {
   "cell_type": "code",
   "execution_count": 76,
   "id": "f8cc9b5f",
   "metadata": {},
   "outputs": [],
   "source": [
    "df.loc[df['percentile'] < 100, 'percentile'] = 'Large increase'"
   ]
  },
  {
   "cell_type": "code",
   "execution_count": 77,
   "id": "76286621",
   "metadata": {},
   "outputs": [
    {
     "data": {
      "text/plain": [
       "Increase    814\n",
       "NaN          26\n",
       "Stable        6\n",
       "Name: Percent change category, dtype: int64"
      ]
     },
     "execution_count": 77,
     "metadata": {},
     "output_type": "execute_result"
    }
   ],
   "source": [
    "df['Percent change category'].value_counts(dropna = False)"
   ]
  },
  {
   "cell_type": "code",
   "execution_count": 78,
   "id": "f30d031c",
   "metadata": {},
   "outputs": [
    {
     "data": {
      "text/plain": [
       "Index(['state', 'id', 'county names', 'population_served', 'collection date',\n",
       "       '15dy percent change', 'percentile', 'current percentile levels ',\n",
       "       'Percent change category'],\n",
       "      dtype='object')"
      ]
     },
     "execution_count": 78,
     "metadata": {},
     "output_type": "execute_result"
    }
   ],
   "source": [
    "df.columns"
   ]
  },
  {
   "cell_type": "code",
   "execution_count": 84,
   "id": "904a1654",
   "metadata": {},
   "outputs": [
    {
     "data": {
      "image/png": "[encoded data removed]",
      "text/plain": [
       "<Figure size 502.175x360 with 1 Axes>"
      ]
     },
     "metadata": {},
     "output_type": "display_data"
    }
   ],
   "source": [
    "#Create a categorical plot in seaborn using the percent change categories created above\n",
    "sns.set(style=\"ticks\")\n",
    "g = sns.catplot(x=\"percentile\", y=\"current percentile levels \", hue=\"Percent change category\", data=df)"
   ]
  },
  {
   "cell_type": "code",
   "execution_count": 85,
   "id": "6e22a338",
   "metadata": {},
   "outputs": [],
   "source": [
    "#fig = g.get_figure()\n",
    "g.savefig(\"out.png\")"
   ]
  },
  {
   "cell_type": "markdown",
   "id": "21944b94",
   "metadata": {},
   "source": [
    "### Pair plots"
   ]
  },
  {
   "cell_type": "code",
   "execution_count": 81,
   "id": "54e573a2",
   "metadata": {},
   "outputs": [],
   "source": [
    "# Keep only the variables you want to use in the pair plot\n",
    "sub_2 = sub[['percentile', 'current percentile levels ']]"
   ]
  },
  {
   "cell_type": "code",
   "execution_count": 82,
   "id": "31de9fed",
   "metadata": {},
   "outputs": [
    {
     "data": {
      "image/png": "[encoded data removed]",
      "text/plain": [
       "<Figure size 360x360 with 6 Axes>"
      ]
     },
     "metadata": {},
     "output_type": "display_data"
    }
   ],
   "source": [
    "# Create a pair plot \n",
    "g = sns.pairplot(sub_2)"
   ]
  },
  {
   "cell_type": "code",
   "execution_count": 86,
   "id": "090aa7f2",
   "metadata": {},
   "outputs": [],
   "source": [
    "#fig = g.get_figure()\n",
    "g.savefig(\"pairplot.png\")"
   ]
  },
  {
   "cell_type": "code",
   "execution_count": null,
   "id": "3e6e560e",
   "metadata": {},
   "outputs": [],
   "source": []
  }
 ],
 "metadata": {
  "kernelspec": {
   "display_name": "Python 3 (ipykernel)",
   "language": "python",
   "name": "python3"
  },
  "language_info": {
   "codemirror_mode": {
    "name": "ipython",
    "version": 3
   },
   "file_extension": ".py",
   "mimetype": "text/x-python",
   "name": "python",
   "nbconvert_exporter": "python",
   "pygments_lexer": "ipython3",
   "version": "3.9.12"
  }
 },
 "nbformat": 4,
 "nbformat_minor": 5
}
